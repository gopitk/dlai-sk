{
 "cells": [
  {
   "cell_type": "markdown",
   "id": "52824b89-532a-4e54-87e9-1410813cd39e",
   "metadata": {},
   "source": [
    "# Semantic Kernel: Evaluation\n",
    "\n",
    "## Outline:\n",
    "\n",
    "* Example generation\n",
    "* Manual evaluation (and debuging)\n",
    "\n",
    "Prerequisite: You have run the L4-SK-CreateDB notebook to populate the venctor database with catalog from CSV file\n"
   ]
  },
  {
   "cell_type": "code",
   "execution_count": 3,
   "id": "b7ed03ed-1322-49e3-b2a2-33e94fb592ef",
   "metadata": {
    "tags": []
   },
   "outputs": [],
   "source": [
    "import os\n",
    "\n",
    "from dotenv import load_dotenv, find_dotenv\n",
    "_ = load_dotenv(find_dotenv()) # read local .env file"
   ]
  },
  {
   "cell_type": "code",
   "execution_count": 42,
   "id": "49c10742",
   "metadata": {},
   "outputs": [
    {
     "data": {
      "text/plain": [
       "<semantic_kernel.kernel.Kernel at 0x7ff588cb7970>"
      ]
     },
     "execution_count": 42,
     "metadata": {},
     "output_type": "execute_result"
    }
   ],
   "source": [
    "# Standard Semantic Kernel initialization\n",
    "import semantic_kernel as sk\n",
    "import os\n",
    "import logging\n",
    "from semantic_kernel.connectors.ai.open_ai import OpenAIChatCompletion\n",
    "\n",
    "logging.basicConfig(level=logging.DEBUG)\n",
    "logger = logging.getLogger('__name__')\n",
    "kernel=sk.Kernel(log=logger)\n",
    "\n",
    "api_key = os.environ['OPENAI_API_KEY']\n",
    "kernel.add_chat_service(\n",
    "        \"chat-gpt\", OpenAIChatCompletion(\"gpt-3.5-turbo\", api_key)\n",
    ")"
   ]
  },
  {
   "cell_type": "code",
   "execution_count": 43,
   "id": "021e3fcd",
   "metadata": {},
   "outputs": [
    {
     "data": {
      "text/plain": [
       "<semantic_kernel.kernel.Kernel at 0x7ff588cb7970>"
      ]
     },
     "execution_count": 43,
     "metadata": {},
     "output_type": "execute_result"
    }
   ],
   "source": [
    "from semantic_kernel.connectors.ai.open_ai import OpenAITextEmbedding\n",
    "kernel.add_text_embedding_generation_service(\n",
    "        \"ada\", OpenAITextEmbedding(\"text-embedding-ada-002\", api_key)\n",
    "    )"
   ]
  },
  {
   "cell_type": "code",
   "execution_count": 44,
   "id": "e2b2d20b",
   "metadata": {},
   "outputs": [
    {
     "name": "stderr",
     "output_type": "stream",
     "text": [
      "INFO:chromadb.telemetry.posthog:Anonymized telemetry enabled. See https://docs.trychroma.com/telemetry for more information.\n",
      "INFO:chromadb.db.duckdb:loaded in 1000 embeddings\n",
      "INFO:chromadb.db.duckdb:loaded in 1 collections\n"
     ]
    }
   ],
   "source": [
    "# register the pre-populated vectore store with embeddings from catalog CSV (created in L4-SK-CreateDB notebook)\n",
    "from semantic_kernel.connectors.memory.chroma import ChromaMemoryStore\n",
    "memstore=ChromaMemoryStore(persist_directory=\"catalog\")\n",
    "kernel.register_memory_store(memory_store=memstore)"
   ]
  },
  {
   "cell_type": "markdown",
   "id": "28008949",
   "metadata": {},
   "source": [
    "## Create our QandA application"
   ]
  },
  {
   "cell_type": "code",
   "execution_count": 45,
   "id": "a2006054",
   "metadata": {},
   "outputs": [],
   "source": [
    "import pandas as pd\n",
    "df = pd.read_csv('OutdoorClothingCatalog_1000.csv')"
   ]
  },
  {
   "cell_type": "markdown",
   "id": "791ebd73",
   "metadata": {},
   "source": [
    "### Coming up with test datapoints"
   ]
  },
  {
   "cell_type": "code",
   "execution_count": 46,
   "id": "4a4e59b5",
   "metadata": {},
   "outputs": [
    {
     "name": "stdout",
     "output_type": "stream",
     "text": [
      "name: Cozy Comfort Pullover Set, Stripe \n",
      "description: Perfect for lounging, this striped knit set lives up to its name. We used ultrasoft fabric and an easy design that's as comfortable at bedtime as it is when we have to make a quick run out.\n",
      "\n",
      "Size & Fit\n",
      "- Pants are Favorite Fit: Sits lower on the waist.\n",
      "- Relaxed Fit: Our most generous fit sits farthest from the body.\n",
      "\n",
      "Fabric & Care\n",
      "- In the softest blend of 63% polyester, 35% rayon and 2% spandex.\n",
      "\n",
      "Additional Features\n",
      "- Relaxed fit top with raglan sleeves and rounded hem.\n",
      "- Pull-on pants have a wide elastic waistband and drawstring, side pockets and a modern slim leg.\n",
      "\n",
      "Imported.\n"
     ]
    }
   ],
   "source": [
    "print(\"name:\", df.iloc[10][\"name\"], \"\\ndescription:\", df.iloc[10].description)"
   ]
  },
  {
   "cell_type": "code",
   "execution_count": 47,
   "id": "fb04a0f9",
   "metadata": {},
   "outputs": [
    {
     "name": "stdout",
     "output_type": "stream",
     "text": [
      "name: Ultra-Lofty 850 Stretch Down Hooded Jacket \n",
      "description: This technical stretch down jacket from our DownTek collection is sure to keep you warm and comfortable with its full-stretch construction providing exceptional range of motion. With a slightly fitted style that falls at the hip and best with a midweight layer, this jacket is suitable for light activity up to 20° and moderate activity up to -30°. The soft and durable 100% polyester shell offers complete windproof protection and is insulated with warm, lofty goose down. Other features include welded baffles for a no-stitch construction and excellent stretch, an adjustable hood, an interior media port and mesh stash pocket and a hem drawcord. Machine wash and dry. Imported.\n"
     ]
    }
   ],
   "source": [
    "print(\"name:\", df.iloc[11][\"name\"], \"\\ndescription:\", df.iloc[11].description)"
   ]
  },
  {
   "cell_type": "markdown",
   "id": "8d548aef",
   "metadata": {},
   "source": [
    "### Hard-coded examples"
   ]
  },
  {
   "cell_type": "code",
   "execution_count": 48,
   "id": "c2d59bf2",
   "metadata": {},
   "outputs": [],
   "source": [
    "# Create some questions from above 2 examples manually\n",
    "examples = [\n",
    "    {\n",
    "        \"query\": \"Do the Cozy Comfort Pullover Set\\\n",
    "        have side pockets?\",\n",
    "        \"answer\": \"Yes\"\n",
    "    },\n",
    "    {\n",
    "        \"query\": \"What collection is the Ultra-Lofty \\\n",
    "        850 Stretch Down Hooded Jacket from?\",\n",
    "        \"answer\": \"The DownTek collection\"\n",
    "    }\n",
    "]"
   ]
  },
  {
   "cell_type": "markdown",
   "id": "c7ce3e4f",
   "metadata": {},
   "source": [
    "### LLM-Generated examples"
   ]
  },
  {
   "cell_type": "markdown",
   "id": "8b93bed0",
   "metadata": {},
   "source": [
    "#### Pick a few records to generate more evaluation questions from the LLM instead of manual examples"
   ]
  },
  {
   "cell_type": "code",
   "execution_count": 49,
   "id": "d44f8376",
   "metadata": {},
   "outputs": [],
   "source": [
    "# Pick record 0-2 from the database and we will use these to pass to LLM to generate some question and answers for evaluation\n",
    "docs = await memstore.get_batch_async(collection_name=\"outdoordb\", keys=[\"0\", \"1\", \"2\"], with_embeddings=False)\n"
   ]
  },
  {
   "cell_type": "code",
   "execution_count": 50,
   "id": "49e948bf",
   "metadata": {},
   "outputs": [
    {
     "data": {
      "text/plain": [
       "\"Women's Campside Oxfords :  This ultracomfortable lace-to-toe Oxford boasts a super-soft canvas, thick cushioning, and quality construction for a broken-in feel from the first time you put them on. \\n\\nSize & Fit: Order regular shoe size. For half sizes not offered, order up to next whole size. \\n\\nSpecs: Approx. weight: 1 lb.1 oz. per pair. \\n\\nConstruction: Soft canvas material for a broken-in feel and look. Comfortable EVA innersole with Cleansport NXT® antimicrobial odor control. Vintage hunt, fish and camping motif on innersole. Moderate arch contour of innersole. EVA foam midsole for cushioning and support. Chain-tread-inspired molded rubber outsole with modified chain-tread pattern. Imported. \\n\\nQuestions? Please contact us for any inquiries.\""
      ]
     },
     "execution_count": 50,
     "metadata": {},
     "output_type": "execute_result"
    }
   ],
   "source": [
    "docs[0]._text"
   ]
  },
  {
   "cell_type": "code",
   "execution_count": 51,
   "id": "042788b9",
   "metadata": {},
   "outputs": [],
   "source": [
    "qdocs = \"\\n```\\n\".join([docs[i]._text for i in range(len(docs))])\n",
    "   \n",
    "    "
   ]
  },
  {
   "cell_type": "code",
   "execution_count": 52,
   "id": "839118bb",
   "metadata": {},
   "outputs": [],
   "source": [
    "async def example_gen_from_llm(qdocs) -> str :\n",
    "\n",
    "    # Ask LLM to generate questions and answers from the records we get from the retrieved vector DB\n",
    "    prompt = \"\"\"{{ $qdocs}} \n",
    "    \n",
    "    Question: Please generate one question and answer for each of above record delimited by triple backticks  \n",
    "    and return results in a well formed JSON list with fields named as query and answer.\n",
    "    \"\"\"\n",
    "    \n",
    "    questgen = kernel.create_semantic_function(prompt, temperature=0.0)\n",
    "    context_variables = sk.ContextVariables(variables={\n",
    "        \"qdocs\": qdocs\n",
    "    })\n",
    "    response = questgen(variables=context_variables)\n",
    "    return response"
   ]
  },
  {
   "cell_type": "code",
   "execution_count": 53,
   "id": "62abae09",
   "metadata": {},
   "outputs": [
    {
     "name": "stderr",
     "output_type": "stream",
     "text": [
      "DEBUG:__name__:Extracting blocks from template: {{ $qdocs}} \n",
      "    \n",
      "    Question: Please generate one question and answer for each of above record delimited by triple backticks  \n",
      "    and return results in a well formed JSON list with fields named as query and answer.\n",
      "    \n",
      "DEBUG:asyncio:Using selector: EpollSelector\n",
      "DEBUG:__name__:Rendering string template: {{ $qdocs}} \n",
      "    \n",
      "    Question: Please generate one question and answer for each of above record delimited by triple backticks  \n",
      "    and return results in a well formed JSON list with fields named as query and answer.\n",
      "    \n",
      "DEBUG:__name__:Extracting blocks from template: {{ $qdocs}} \n",
      "    \n",
      "    Question: Please generate one question and answer for each of above record delimited by triple backticks  \n",
      "    and return results in a well formed JSON list with fields named as query and answer.\n",
      "    \n",
      "DEBUG:__name__:Rendering list of 2 blocks\n",
      "DEBUG:__name__:Rendered prompt: Women's Campside Oxfords :  This ultracomfortable lace-to-toe Oxford boasts a super-soft canvas, thick cushioning, and quality construction for a broken-in feel from the first time you put them on. \n",
      "\n",
      "Size & Fit: Order regular shoe size. For half sizes not offered, order up to next whole size. \n",
      "\n",
      "Specs: Approx. weight: 1 lb.1 oz. per pair. \n",
      "\n",
      "Construction: Soft canvas material for a broken-in feel and look. Comfortable EVA innersole with Cleansport NXT® antimicrobial odor control. Vintage hunt, fish and camping motif on innersole. Moderate arch contour of innersole. EVA foam midsole for cushioning and support. Chain-tread-inspired molded rubber outsole with modified chain-tread pattern. Imported. \n",
      "\n",
      "Questions? Please contact us for any inquiries.\n",
      "```\n",
      "Recycled Waterhog Dog Mat, Chevron Weave :  Protect your floors from spills and splashing with our ultradurable recycled Waterhog dog mat made right here in the USA. \n",
      "\n",
      "Specs\n",
      "Small - Dimensions: 18\" x 28\". \n",
      "Medium - Dimensions: 22.5\" x 34.5\".\n",
      "\n",
      "Why We Love It\n",
      "Mother nature, wet shoes and muddy paws have met their match with our Recycled Waterhog mats. Ruggedly constructed from recycled plastic materials, these ultratough mats help keep dirt and water off your floors and plastic out of landfills, trails and oceans. Now, that's a win-win for everyone.\n",
      "\n",
      "Fabric & Care\n",
      "Vacuum or hose clean.\n",
      "\n",
      "Construction\n",
      "24 oz. polyester fabric made from 94% recycled materials.\n",
      "Rubber backing.\n",
      "\n",
      "Additional Features\n",
      "Features an -exclusive design.\n",
      "Features thick and thin fibers for scraping dirt and absorbing water.\n",
      "Dries quickly and resists fading, rotting, mildew and shedding.\n",
      "Use indoors or out.\n",
      "Made in the USA.\n",
      "\n",
      "Have questions? Reach out to our customer service team with any questions you may have.\n",
      "```\n",
      "Infant and Toddler Girls' Coastal Chill Swimsuit, Two-Piece :  She'll love the bright colors, ruffles and exclusive whimsical prints of this toddler's two-piece swimsuit! Our four-way-stretch and chlorine-resistant fabric keeps its shape and resists snags. The UPF 50+ rated fabric provides the highest rated sun protection possible, blocking 98% of the sun's harmful rays. The crossover no-slip straps and fully lined bottom ensure a secure fit and maximum coverage. Machine wash and line dry for best results. Imported. \n",
      "    \n",
      "    Question: Please generate one question and answer for each of above record delimited by triple backticks  \n",
      "    and return results in a well formed JSON list with fields named as query and answer.\n",
      "    \n",
      "DEBUG:openai:message='Request to OpenAI API' method=post path=https://api.openai.com/v1/chat/completions\n",
      "DEBUG:openai:api_version=None data='{\"model\": \"gpt-3.5-turbo\", \"messages\": [{\"role\": \"user\", \"content\": \"Women\\'s Campside Oxfords :  This ultracomfortable lace-to-toe Oxford boasts a super-soft canvas, thick cushioning, and quality construction for a broken-in feel from the first time you put them on. \\\\n\\\\nSize & Fit: Order regular shoe size. For half sizes not offered, order up to next whole size. \\\\n\\\\nSpecs: Approx. weight: 1 lb.1 oz. per pair. \\\\n\\\\nConstruction: Soft canvas material for a broken-in feel and look. Comfortable EVA innersole with Cleansport NXT\\\\u00ae antimicrobial odor control. Vintage hunt, fish and camping motif on innersole. Moderate arch contour of innersole. EVA foam midsole for cushioning and support. Chain-tread-inspired molded rubber outsole with modified chain-tread pattern. Imported. \\\\n\\\\nQuestions? Please contact us for any inquiries.\\\\n```\\\\nRecycled Waterhog Dog Mat, Chevron Weave :  Protect your floors from spills and splashing with our ultradurable recycled Waterhog dog mat made right here in the USA. \\\\n\\\\nSpecs\\\\nSmall - Dimensions: 18\\\\\" x 28\\\\\". \\\\nMedium - Dimensions: 22.5\\\\\" x 34.5\\\\\".\\\\n\\\\nWhy We Love It\\\\nMother nature, wet shoes and muddy paws have met their match with our Recycled Waterhog mats. Ruggedly constructed from recycled plastic materials, these ultratough mats help keep dirt and water off your floors and plastic out of landfills, trails and oceans. Now, that\\'s a win-win for everyone.\\\\n\\\\nFabric & Care\\\\nVacuum or hose clean.\\\\n\\\\nConstruction\\\\n24 oz. polyester fabric made from 94% recycled materials.\\\\nRubber backing.\\\\n\\\\nAdditional Features\\\\nFeatures an -exclusive design.\\\\nFeatures thick and thin fibers for scraping dirt and absorbing water.\\\\nDries quickly and resists fading, rotting, mildew and shedding.\\\\nUse indoors or out.\\\\nMade in the USA.\\\\n\\\\nHave questions? Reach out to our customer service team with any questions you may have.\\\\n```\\\\nInfant and Toddler Girls\\' Coastal Chill Swimsuit, Two-Piece :  She\\'ll love the bright colors, ruffles and exclusive whimsical prints of this toddler\\'s two-piece swimsuit! Our four-way-stretch and chlorine-resistant fabric keeps its shape and resists snags. The UPF 50+ rated fabric provides the highest rated sun protection possible, blocking 98% of the sun\\'s harmful rays. The crossover no-slip straps and fully lined bottom ensure a secure fit and maximum coverage. Machine wash and line dry for best results. Imported. \\\\n    \\\\n    Question: Please generate one question and answer for each of above record delimited by triple backticks  \\\\n    and return results in a well formed JSON list with fields named as query and answer.\\\\n    \"}], \"temperature\": 0.0, \"top_p\": 1.0, \"presence_penalty\": 0.0, \"frequency_penalty\": 0.0, \"max_tokens\": 256, \"n\": 1, \"stream\": false}' message='Post details'\n",
      "INFO:openai:message='OpenAI API response' path=https://api.openai.com/v1/chat/completions processing_ms=3545 request_id=06bce85e7b3062f0b4a23647a4e55010 response_code=200\n"
     ]
    }
   ],
   "source": [
    "new_examples = await example_gen_from_llm(qdocs)\n"
   ]
  },
  {
   "cell_type": "code",
   "execution_count": 54,
   "id": "97ab28b5",
   "metadata": {},
   "outputs": [
    {
     "data": {
      "text/plain": [
       "'[\\n  {\\n    \"query\": \"What is the weight of the Women\\'s Campside Oxfords?\",\\n    \"answer\": \"Approx. weight: 1 lb.1 oz. per pair.\"\\n  },\\n  {\\n    \"query\": \"What is the size of the Small Recycled Waterhog Dog Mat?\",\\n    \"answer\": \"Small - Dimensions: 18\\\\\" x 28\\\\\".\"\\n  },\\n  {\\n    \"query\": \"What is the fabric composition of the Recycled Waterhog Dog Mat?\",\\n    \"answer\": \"24 oz. polyester fabric made from 94% recycled materials.\"\\n  },\\n  {\\n    \"query\": \"What is the sun protection rating of the Infant and Toddler Girls\\' Coastal Chill Swimsuit?\",\\n    \"answer\": \"UPF 50+ rated fabric provides the highest rated sun protection possible, blocking 98% of the sun\\'s harmful rays.\"\\n  }\\n]'"
      ]
     },
     "execution_count": 54,
     "metadata": {},
     "output_type": "execute_result"
    }
   ],
   "source": [
    "new_examples[\"input\"]"
   ]
  },
  {
   "cell_type": "code",
   "execution_count": 55,
   "id": "0ebe4228",
   "metadata": {},
   "outputs": [],
   "source": [
    "# Convert string to JSON\n",
    "import json\n",
    "jlist = json.loads(new_examples[\"input\"])\n"
   ]
  },
  {
   "cell_type": "markdown",
   "id": "faf25f2f",
   "metadata": {},
   "source": [
    "### Combine examples"
   ]
  },
  {
   "cell_type": "code",
   "execution_count": 56,
   "id": "ada2a3fc",
   "metadata": {},
   "outputs": [],
   "source": [
    "# Add LLM generated evaluation q&a to the manual ones we defined earlier\n",
    "examples += jlist"
   ]
  },
  {
   "cell_type": "code",
   "execution_count": 57,
   "id": "9cdf5cf5",
   "metadata": {},
   "outputs": [],
   "source": [
    "# Now again lets ask the LLM to answer evaluation questions\n",
    "async def ragqna(kernel, query, limit) -> str:\n",
    "    docs = await kernel.memory.search_async(collection=\"outdoordb\", limit=limit, min_relevance_score=0.3, query=query)\n",
    "    qdocs = \"\\n```\\n\".join([docs[i].text for i in range(len(docs))])\n",
    "    \n",
    "    prompt = \"\"\"{{ $qdocs}} \n",
    "    \n",
    "    Use the above documents delimited by triple backticks and answer the following question: {{ $query }}\n",
    "    \n",
    "    \n",
    "    \"\"\"\n",
    "    \n",
    "    qna = kernel.create_semantic_function(prompt, temperature=0.0)\n",
    "    context_variables = sk.ContextVariables(variables={\n",
    "        \"qdocs\": qdocs,\n",
    "        \"query\": query\n",
    "    })\n",
    "    response = qna(variables=context_variables)\n",
    "    return response"
   ]
  },
  {
   "cell_type": "markdown",
   "id": "63f3cb08",
   "metadata": {},
   "source": [
    "## Manual Evaluation"
   ]
  },
  {
   "cell_type": "code",
   "execution_count": 60,
   "id": "8a142638",
   "metadata": {},
   "outputs": [
    {
     "name": "stderr",
     "output_type": "stream",
     "text": [
      "DEBUG:openai:message='Request to OpenAI API' method=post path=https://api.openai.com/v1/embeddings\n",
      "DEBUG:openai:api_version=None data='{\"model\": \"text-embedding-ada-002\", \"input\": [\"Do the Cozy Comfort Pullover Set        have side pockets?\"], \"encoding_format\": \"base64\"}' message='Post details'\n",
      "INFO:openai:message='OpenAI API response' path=https://api.openai.com/v1/embeddings processing_ms=34 request_id=b7ea65ff84f4092e5deb2c27f5ba5df9 response_code=200\n",
      "DEBUG:chromadb.db.index.hnswlib:time to pre process our knn query: 1.6689300537109375e-06\n",
      "DEBUG:chromadb.db.index.hnswlib:time to run knn query: 0.00015115737915039062\n",
      "DEBUG:__name__:Extracting blocks from template: {{ $qdocs}} \n",
      "    \n",
      "    Use the above documents delimited by triple backticks and answer the following question: {{ $query }}\n",
      "    \n",
      "    \n",
      "    \n",
      "DEBUG:asyncio:Using selector: EpollSelector\n",
      "DEBUG:__name__:Rendering string template: {{ $qdocs}} \n",
      "    \n",
      "    Use the above documents delimited by triple backticks and answer the following question: {{ $query }}\n",
      "    \n",
      "    \n",
      "    \n",
      "DEBUG:__name__:Extracting blocks from template: {{ $qdocs}} \n",
      "    \n",
      "    Use the above documents delimited by triple backticks and answer the following question: {{ $query }}\n",
      "    \n",
      "    \n",
      "    \n",
      "DEBUG:__name__:Rendering list of 4 blocks\n",
      "DEBUG:__name__:Rendered prompt: Cozy Comfort Pullover Set, Stripe :  Perfect for lounging, this striped knit set lives up to its name. We used ultrasoft fabric and an easy design that's as comfortable at bedtime as it is when we have to make a quick run out.\n",
      "\n",
      "Size & Fit\n",
      "- Pants are Favorite Fit: Sits lower on the waist.\n",
      "- Relaxed Fit: Our most generous fit sits farthest from the body.\n",
      "\n",
      "Fabric & Care\n",
      "- In the softest blend of 63% polyester, 35% rayon and 2% spandex.\n",
      "\n",
      "Additional Features\n",
      "- Relaxed fit top with raglan sleeves and rounded hem.\n",
      "- Pull-on pants have a wide elastic waistband and drawstring, side pockets and a modern slim leg.\n",
      "\n",
      "Imported.\n",
      "```\n",
      "Cozy Cuddles Knit Pullover Set :  Perfect for lounging, this knit set lives up to its name. We used ultrasoft fabric and an easy design that's as comfortable at bedtime as it is when we have to make a quick run out. \n",
      "\n",
      "Size & Fit \n",
      "Pants are Favorite Fit: Sits lower on the waist. \n",
      "Relaxed Fit: Our most generous fit sits farthest from the body. \n",
      "\n",
      "Fabric & Care \n",
      "In the softest blend of 63% polyester, 35% rayon and 2% spandex.\n",
      "\n",
      "Additional Features \n",
      "Relaxed fit top with raglan sleeves and rounded hem. \n",
      "Pull-on pants have a wide elastic waistband and drawstring, side pockets and a modern slim leg. \n",
      "Imported.\n",
      "```\n",
      "SnuggleSweats Pullover :  Made from soft performance fabric, this cowl-neck sweatshirt is incredibly comfortable and cozy. It's soft to the touch and only gets cozier with time. Plus, it wicks moisture and moves with you for on-the-go comfort. Its slightly fitted shape softly shapes the body and falls at low hip. It has an oversized adjustable cowlneck, kangaroo pocket, tall rib-knit cuffs and thumbholes to keep sleeves in place. This sweatshirt is machine washable and dryable and is imported. \n",
      "    \n",
      "    Use the above documents delimited by triple backticks and answer the following question: Do the Cozy Comfort Pullover Set        have side pockets?\n",
      "    \n",
      "    \n",
      "    \n",
      "DEBUG:openai:message='Request to OpenAI API' method=post path=https://api.openai.com/v1/chat/completions\n",
      "DEBUG:openai:api_version=None data='{\"model\": \"gpt-3.5-turbo\", \"messages\": [{\"role\": \"user\", \"content\": \"Cozy Comfort Pullover Set, Stripe :  Perfect for lounging, this striped knit set lives up to its name. We used ultrasoft fabric and an easy design that\\'s as comfortable at bedtime as it is when we have to make a quick run out.\\\\n\\\\nSize & Fit\\\\n- Pants are Favorite Fit: Sits lower on the waist.\\\\n- Relaxed Fit: Our most generous fit sits farthest from the body.\\\\n\\\\nFabric & Care\\\\n- In the softest blend of 63% polyester, 35% rayon and 2% spandex.\\\\n\\\\nAdditional Features\\\\n- Relaxed fit top with raglan sleeves and rounded hem.\\\\n- Pull-on pants have a wide elastic waistband and drawstring, side pockets and a modern slim leg.\\\\n\\\\nImported.\\\\n```\\\\nCozy Cuddles Knit Pullover Set :  Perfect for lounging, this knit set lives up to its name. We used ultrasoft fabric and an easy design that\\'s as comfortable at bedtime as it is when we have to make a quick run out. \\\\n\\\\nSize & Fit \\\\nPants are Favorite Fit: Sits lower on the waist. \\\\nRelaxed Fit: Our most generous fit sits farthest from the body. \\\\n\\\\nFabric & Care \\\\nIn the softest blend of 63% polyester, 35% rayon and 2% spandex.\\\\n\\\\nAdditional Features \\\\nRelaxed fit top with raglan sleeves and rounded hem. \\\\nPull-on pants have a wide elastic waistband and drawstring, side pockets and a modern slim leg. \\\\nImported.\\\\n```\\\\nSnuggleSweats Pullover :  Made from soft performance fabric, this cowl-neck sweatshirt is incredibly comfortable and cozy. It\\'s soft to the touch and only gets cozier with time. Plus, it wicks moisture and moves with you for on-the-go comfort. Its slightly fitted shape softly shapes the body and falls at low hip. It has an oversized adjustable cowlneck, kangaroo pocket, tall rib-knit cuffs and thumbholes to keep sleeves in place. This sweatshirt is machine washable and dryable and is imported. \\\\n    \\\\n    Use the above documents delimited by triple backticks and answer the following question: Do the Cozy Comfort Pullover Set        have side pockets?\\\\n    \\\\n    \\\\n    \"}], \"temperature\": 0.0, \"top_p\": 1.0, \"presence_penalty\": 0.0, \"frequency_penalty\": 0.0, \"max_tokens\": 256, \"n\": 1, \"stream\": false}' message='Post details'\n",
      "INFO:openai:message='OpenAI API response' path=https://api.openai.com/v1/chat/completions processing_ms=620 request_id=346512f79fc4e2b4a59743575901fc3a response_code=200\n"
     ]
    }
   ],
   "source": [
    "# Lets test one example before trying all evaluations\n",
    "response = await ragqna(kernel, examples[0][\"query\"], 3)"
   ]
  },
  {
   "cell_type": "code",
   "execution_count": 62,
   "id": "b3d6bef0",
   "metadata": {},
   "outputs": [
    {
     "name": "stdout",
     "output_type": "stream",
     "text": [
      "Do the Cozy Comfort Pullover Set        have side pockets?\n",
      "Yes, the Cozy Comfort Pullover Set does have side pockets.\n"
     ]
    }
   ],
   "source": [
    "print(examples[0][\"query\"])\n",
    "print(response[\"input\"])"
   ]
  },
  {
   "cell_type": "code",
   "execution_count": 63,
   "id": "022edd6e",
   "metadata": {},
   "outputs": [
    {
     "name": "stderr",
     "output_type": "stream",
     "text": [
      "DEBUG:openai:message='Request to OpenAI API' method=post path=https://api.openai.com/v1/embeddings\n",
      "DEBUG:openai:api_version=None data='{\"model\": \"text-embedding-ada-002\", \"input\": [\"Do the Cozy Comfort Pullover Set        have side pockets?\"], \"encoding_format\": \"base64\"}' message='Post details'\n",
      "INFO:openai:message='OpenAI API response' path=https://api.openai.com/v1/embeddings processing_ms=42 request_id=f7003ab68f6822aa5b7f3873b030d8f4 response_code=200\n",
      "DEBUG:chromadb.db.index.hnswlib:time to pre process our knn query: 1.9073486328125e-06\n",
      "DEBUG:chromadb.db.index.hnswlib:time to run knn query: 0.00030112266540527344\n",
      "DEBUG:__name__:Extracting blocks from template: {{ $qdocs}} \n",
      "    \n",
      "    Use the above documents delimited by triple backticks and answer the following question: {{ $query }}\n",
      "    \n",
      "    \n",
      "    \n",
      "DEBUG:asyncio:Using selector: EpollSelector\n",
      "DEBUG:__name__:Rendering string template: {{ $qdocs}} \n",
      "    \n",
      "    Use the above documents delimited by triple backticks and answer the following question: {{ $query }}\n",
      "    \n",
      "    \n",
      "    \n",
      "DEBUG:__name__:Extracting blocks from template: {{ $qdocs}} \n",
      "    \n",
      "    Use the above documents delimited by triple backticks and answer the following question: {{ $query }}\n",
      "    \n",
      "    \n",
      "    \n",
      "DEBUG:__name__:Rendering list of 4 blocks\n",
      "DEBUG:__name__:Rendered prompt: Cozy Comfort Pullover Set, Stripe :  Perfect for lounging, this striped knit set lives up to its name. We used ultrasoft fabric and an easy design that's as comfortable at bedtime as it is when we have to make a quick run out.\n",
      "\n",
      "Size & Fit\n",
      "- Pants are Favorite Fit: Sits lower on the waist.\n",
      "- Relaxed Fit: Our most generous fit sits farthest from the body.\n",
      "\n",
      "Fabric & Care\n",
      "- In the softest blend of 63% polyester, 35% rayon and 2% spandex.\n",
      "\n",
      "Additional Features\n",
      "- Relaxed fit top with raglan sleeves and rounded hem.\n",
      "- Pull-on pants have a wide elastic waistband and drawstring, side pockets and a modern slim leg.\n",
      "\n",
      "Imported.\n",
      "```\n",
      "Cozy Cuddles Knit Pullover Set :  Perfect for lounging, this knit set lives up to its name. We used ultrasoft fabric and an easy design that's as comfortable at bedtime as it is when we have to make a quick run out. \n",
      "\n",
      "Size & Fit \n",
      "Pants are Favorite Fit: Sits lower on the waist. \n",
      "Relaxed Fit: Our most generous fit sits farthest from the body. \n",
      "\n",
      "Fabric & Care \n",
      "In the softest blend of 63% polyester, 35% rayon and 2% spandex.\n",
      "\n",
      "Additional Features \n",
      "Relaxed fit top with raglan sleeves and rounded hem. \n",
      "Pull-on pants have a wide elastic waistband and drawstring, side pockets and a modern slim leg. \n",
      "Imported.\n",
      "```\n",
      "SnuggleSweats Pullover :  Made from soft performance fabric, this cowl-neck sweatshirt is incredibly comfortable and cozy. It's soft to the touch and only gets cozier with time. Plus, it wicks moisture and moves with you for on-the-go comfort. Its slightly fitted shape softly shapes the body and falls at low hip. It has an oversized adjustable cowlneck, kangaroo pocket, tall rib-knit cuffs and thumbholes to keep sleeves in place. This sweatshirt is machine washable and dryable and is imported. \n",
      "    \n",
      "    Use the above documents delimited by triple backticks and answer the following question: Do the Cozy Comfort Pullover Set        have side pockets?\n",
      "    \n",
      "    \n",
      "    \n",
      "DEBUG:openai:message='Request to OpenAI API' method=post path=https://api.openai.com/v1/chat/completions\n",
      "DEBUG:openai:api_version=None data='{\"model\": \"gpt-3.5-turbo\", \"messages\": [{\"role\": \"user\", \"content\": \"Cozy Comfort Pullover Set, Stripe :  Perfect for lounging, this striped knit set lives up to its name. We used ultrasoft fabric and an easy design that\\'s as comfortable at bedtime as it is when we have to make a quick run out.\\\\n\\\\nSize & Fit\\\\n- Pants are Favorite Fit: Sits lower on the waist.\\\\n- Relaxed Fit: Our most generous fit sits farthest from the body.\\\\n\\\\nFabric & Care\\\\n- In the softest blend of 63% polyester, 35% rayon and 2% spandex.\\\\n\\\\nAdditional Features\\\\n- Relaxed fit top with raglan sleeves and rounded hem.\\\\n- Pull-on pants have a wide elastic waistband and drawstring, side pockets and a modern slim leg.\\\\n\\\\nImported.\\\\n```\\\\nCozy Cuddles Knit Pullover Set :  Perfect for lounging, this knit set lives up to its name. We used ultrasoft fabric and an easy design that\\'s as comfortable at bedtime as it is when we have to make a quick run out. \\\\n\\\\nSize & Fit \\\\nPants are Favorite Fit: Sits lower on the waist. \\\\nRelaxed Fit: Our most generous fit sits farthest from the body. \\\\n\\\\nFabric & Care \\\\nIn the softest blend of 63% polyester, 35% rayon and 2% spandex.\\\\n\\\\nAdditional Features \\\\nRelaxed fit top with raglan sleeves and rounded hem. \\\\nPull-on pants have a wide elastic waistband and drawstring, side pockets and a modern slim leg. \\\\nImported.\\\\n```\\\\nSnuggleSweats Pullover :  Made from soft performance fabric, this cowl-neck sweatshirt is incredibly comfortable and cozy. It\\'s soft to the touch and only gets cozier with time. Plus, it wicks moisture and moves with you for on-the-go comfort. Its slightly fitted shape softly shapes the body and falls at low hip. It has an oversized adjustable cowlneck, kangaroo pocket, tall rib-knit cuffs and thumbholes to keep sleeves in place. This sweatshirt is machine washable and dryable and is imported. \\\\n    \\\\n    Use the above documents delimited by triple backticks and answer the following question: Do the Cozy Comfort Pullover Set        have side pockets?\\\\n    \\\\n    \\\\n    \"}], \"temperature\": 0.0, \"top_p\": 1.0, \"presence_penalty\": 0.0, \"frequency_penalty\": 0.0, \"max_tokens\": 256, \"n\": 1, \"stream\": false}' message='Post details'\n",
      "INFO:openai:message='OpenAI API response' path=https://api.openai.com/v1/chat/completions processing_ms=684 request_id=d17609605f4b82b26d47fb2b82d73ff9 response_code=200\n",
      "DEBUG:openai:message='Request to OpenAI API' method=post path=https://api.openai.com/v1/embeddings\n",
      "DEBUG:openai:api_version=None data='{\"model\": \"text-embedding-ada-002\", \"input\": [\"What collection is the Ultra-Lofty         850 Stretch Down Hooded Jacket from?\"], \"encoding_format\": \"base64\"}' message='Post details'\n",
      "INFO:openai:message='OpenAI API response' path=https://api.openai.com/v1/embeddings processing_ms=34 request_id=84d57b73a6f9738c92ce7f90c5fb06b0 response_code=200\n",
      "DEBUG:chromadb.db.index.hnswlib:time to pre process our knn query: 3.337860107421875e-06\n",
      "DEBUG:chromadb.db.index.hnswlib:time to run knn query: 0.0003418922424316406\n",
      "DEBUG:__name__:Extracting blocks from template: {{ $qdocs}} \n",
      "    \n",
      "    Use the above documents delimited by triple backticks and answer the following question: {{ $query }}\n",
      "    \n",
      "    \n",
      "    \n",
      "DEBUG:asyncio:Using selector: EpollSelector\n",
      "DEBUG:__name__:Rendering string template: {{ $qdocs}} \n",
      "    \n",
      "    Use the above documents delimited by triple backticks and answer the following question: {{ $query }}\n",
      "    \n",
      "    \n",
      "    \n",
      "DEBUG:__name__:Extracting blocks from template: {{ $qdocs}} \n",
      "    \n",
      "    Use the above documents delimited by triple backticks and answer the following question: {{ $query }}\n",
      "    \n",
      "    \n",
      "    \n",
      "DEBUG:__name__:Rendering list of 4 blocks\n",
      "DEBUG:__name__:Rendered prompt: Ultra-Lofty 850 Stretch Down Hooded Jacket :  This technical stretch down jacket from our DownTek collection is sure to keep you warm and comfortable with its full-stretch construction providing exceptional range of motion. With a slightly fitted style that falls at the hip and best with a midweight layer, this jacket is suitable for light activity up to 20° and moderate activity up to -30°. The soft and durable 100% polyester shell offers complete windproof protection and is insulated with warm, lofty goose down. Other features include welded baffles for a no-stitch construction and excellent stretch, an adjustable hood, an interior media port and mesh stash pocket and a hem drawcord. Machine wash and dry. Imported.\n",
      "```\n",
      "Women's Ultra-Loft Down Sweater Hooded Jacket :  Our revolutionary 850 jacket is designed with the best outerwear technology to ensure unbeatable performance. With premium 850 down for more warmth for its weight and DownTek treatment for water resistance, this jacket is light, lofty and warm. The tightly woven Pertex Quantum nylon shell is wind and weather-resistant for added protection. Comfort ratings for light activity is up to 30° and moderate activity up to -20°. With a slightly fitted shape that falls at the hip and best with a midweight layer, this jacket will keep you warm in any condition. It is virtually weightless and packs away into its own pocket. Certified by the Responsible Down Standard, it is a jacket of its own class.\n",
      "```\n",
      "Ultra-Loft 850 Big Baffle Hooded Jacket :  Our Ultralight 850 Down Jacket is designed with bigger baffles to provide you with unparalleled comfort and style. It's suitable for light activity up to 15° and moderate activity to -35°. Its slightly fitted cut falls below the hips and best with midweight layer, making sure you stay warm and cozy. The shell is made from Pertex Y-shaped yarn technology, a tightly interlocked weave that resists moisture and keeps down feathers inside. It's filled with premium 850-fill-power goose down, one of the highest on the market, and treated with DownTek for water repellency. It's also responsibly sourced down. Plus, it features adjustable hood, two zippered hand pockets, one zippered chest pocket, low-profile inner cuff construction and a hem drawcord for additional coverage and wind protection. Machine wash and dry for easy care. Imported. \n",
      "    \n",
      "    Use the above documents delimited by triple backticks and answer the following question: What collection is the Ultra-Lofty         850 Stretch Down Hooded Jacket from?\n",
      "    \n",
      "    \n",
      "    \n"
     ]
    },
    {
     "name": "stderr",
     "output_type": "stream",
     "text": [
      "DEBUG:openai:message='Request to OpenAI API' method=post path=https://api.openai.com/v1/chat/completions\n",
      "DEBUG:openai:api_version=None data='{\"model\": \"gpt-3.5-turbo\", \"messages\": [{\"role\": \"user\", \"content\": \"Ultra-Lofty 850 Stretch Down Hooded Jacket :  This technical stretch down jacket from our DownTek collection is sure to keep you warm and comfortable with its full-stretch construction providing exceptional range of motion. With a slightly fitted style that falls at the hip and best with a midweight layer, this jacket is suitable for light activity up to 20\\\\u00b0 and moderate activity up to -30\\\\u00b0. The soft and durable 100% polyester shell offers complete windproof protection and is insulated with warm, lofty goose down. Other features include welded baffles for a no-stitch construction and excellent stretch, an adjustable hood, an interior media port and mesh stash pocket and a hem drawcord. Machine wash and dry. Imported.\\\\n```\\\\nWomen\\'s Ultra-Loft Down Sweater Hooded Jacket :  Our revolutionary 850 jacket is designed with the best outerwear technology to ensure unbeatable performance. With premium 850 down for more warmth for its weight and DownTek treatment for water resistance, this jacket is light, lofty and warm. The tightly woven Pertex Quantum nylon shell is wind and weather-resistant for added protection. Comfort ratings for light activity is up to 30\\\\u00b0 and moderate activity up to -20\\\\u00b0. With a slightly fitted shape that falls at the hip and best with a midweight layer, this jacket will keep you warm in any condition. It is virtually weightless and packs away into its own pocket. Certified by the Responsible Down Standard, it is a jacket of its own class.\\\\n```\\\\nUltra-Loft 850 Big Baffle Hooded Jacket :  Our Ultralight 850 Down Jacket is designed with bigger baffles to provide you with unparalleled comfort and style. It\\'s suitable for light activity up to 15\\\\u00b0 and moderate activity to -35\\\\u00b0. Its slightly fitted cut falls below the hips and best with midweight layer, making sure you stay warm and cozy. The shell is made from Pertex Y-shaped yarn technology, a tightly interlocked weave that resists moisture and keeps down feathers inside. It\\'s filled with premium 850-fill-power goose down, one of the highest on the market, and treated with DownTek for water repellency. It\\'s also responsibly sourced down. Plus, it features adjustable hood, two zippered hand pockets, one zippered chest pocket, low-profile inner cuff construction and a hem drawcord for additional coverage and wind protection. Machine wash and dry for easy care. Imported. \\\\n    \\\\n    Use the above documents delimited by triple backticks and answer the following question: What collection is the Ultra-Lofty         850 Stretch Down Hooded Jacket from?\\\\n    \\\\n    \\\\n    \"}], \"temperature\": 0.0, \"top_p\": 1.0, \"presence_penalty\": 0.0, \"frequency_penalty\": 0.0, \"max_tokens\": 256, \"n\": 1, \"stream\": false}' message='Post details'\n",
      "INFO:openai:message='OpenAI API response' path=https://api.openai.com/v1/chat/completions processing_ms=744 request_id=c69c5ae7a5711fadc234dbf1774cbb0b response_code=200\n",
      "DEBUG:openai:message='Request to OpenAI API' method=post path=https://api.openai.com/v1/embeddings\n",
      "DEBUG:openai:api_version=None data='{\"model\": \"text-embedding-ada-002\", \"input\": [\"What is the weight of the Women\\'s Campside Oxfords?\"], \"encoding_format\": \"base64\"}' message='Post details'\n",
      "INFO:openai:message='OpenAI API response' path=https://api.openai.com/v1/embeddings processing_ms=32 request_id=97cac271c7547cf5878467cfc1eb19bf response_code=200\n",
      "DEBUG:chromadb.db.index.hnswlib:time to pre process our knn query: 2.1457672119140625e-06\n",
      "DEBUG:chromadb.db.index.hnswlib:time to run knn query: 0.00014400482177734375\n",
      "DEBUG:__name__:Extracting blocks from template: {{ $qdocs}} \n",
      "    \n",
      "    Use the above documents delimited by triple backticks and answer the following question: {{ $query }}\n",
      "    \n",
      "    \n",
      "    \n",
      "DEBUG:asyncio:Using selector: EpollSelector\n",
      "DEBUG:__name__:Rendering string template: {{ $qdocs}} \n",
      "    \n",
      "    Use the above documents delimited by triple backticks and answer the following question: {{ $query }}\n",
      "    \n",
      "    \n",
      "    \n",
      "DEBUG:__name__:Extracting blocks from template: {{ $qdocs}} \n",
      "    \n",
      "    Use the above documents delimited by triple backticks and answer the following question: {{ $query }}\n",
      "    \n",
      "    \n",
      "    \n",
      "DEBUG:__name__:Rendering list of 4 blocks\n",
      "DEBUG:__name__:Rendered prompt: Women's Campside Oxfords :  This ultracomfortable lace-to-toe Oxford boasts a super-soft canvas, thick cushioning, and quality construction for a broken-in feel from the first time you put them on. \n",
      "\n",
      "Size & Fit: Order regular shoe size. For half sizes not offered, order up to next whole size. \n",
      "\n",
      "Specs: Approx. weight: 1 lb.1 oz. per pair. \n",
      "\n",
      "Construction: Soft canvas material for a broken-in feel and look. Comfortable EVA innersole with Cleansport NXT® antimicrobial odor control. Vintage hunt, fish and camping motif on innersole. Moderate arch contour of innersole. EVA foam midsole for cushioning and support. Chain-tread-inspired molded rubber outsole with modified chain-tread pattern. Imported. \n",
      "\n",
      "Questions? Please contact us for any inquiries.\n",
      "```\n",
      "Women's Oboz Sapphire Waterproof Trail Boots :  Tackle any trail with waterproof day hikers designed specifically for women. Not simply men's boots made smaller, they're engineered for the unique bone structure of women’s feet, providing superior comfort with every step. \n",
      "\n",
      "Specs: Approx. weight: 1 lb. 13 oz. per pair. \n",
      "\n",
      "Construction: Articulated upper provides extra ankle support on crooked crags and steep slopes. Nubuck leather upper with waterproof, breathable B Dry. Durable polyurethane-coated leather toe-and-heel guard protects feet on the trail. Arch-supporting insole for optimal flexibility and propulsion. Tuned, single-density EVA midsole provides soft cushioning. Grippy outsole for dependable traction. \n",
      "\n",
      "Additional Features: Oboz plants a tree for every pair of shoes sold, in partnership with Trees for the Future. Imported.\n",
      "```\n",
      "Women's Oboz Sawtooth Trekking Shoes :  With their athletic profile and heavy-duty tread, these Oboz Sawtooth hiking shoes are a great choice for everything from a walk in the park to tackling the most challenging trails. Ventilated design is perfect for warm weather.\n",
      "\n",
      "Size & Fit\n",
      "Order your regular shoe size.\n",
      "\n",
      "Specs\n",
      "Approx. weight: 1 lb. 8 oz.\n",
      "\n",
      "Construction\n",
      "New upper and panel mesh are softer and more breathable.\n",
      "Nubuck leather upper with abrasion-resistant synthetic panels.\n",
      "3D molded heel counter helps shoes maintain a snug, comfortable heel hold over time.\n",
      "Dual-density EVA midsole provides supportive balanced cushioning.\n",
      "Nylon shank offers added support between heel and forefoot.\n",
      "Classic Oboz Sawtooth sole sheds mud and provides exceptional traction.\n",
      "Sidewall lugs grip off-camber trails while shaving weight.\n",
      "Low-density EVA pods provide cushioning and comfort.\n",
      "Imported. \n",
      "    \n",
      "    Use the above documents delimited by triple backticks and answer the following question: What is the weight of the Women's Campside Oxfords?\n",
      "    \n",
      "    \n",
      "    \n",
      "DEBUG:openai:message='Request to OpenAI API' method=post path=https://api.openai.com/v1/chat/completions\n",
      "DEBUG:openai:api_version=None data='{\"model\": \"gpt-3.5-turbo\", \"messages\": [{\"role\": \"user\", \"content\": \"Women\\'s Campside Oxfords :  This ultracomfortable lace-to-toe Oxford boasts a super-soft canvas, thick cushioning, and quality construction for a broken-in feel from the first time you put them on. \\\\n\\\\nSize & Fit: Order regular shoe size. For half sizes not offered, order up to next whole size. \\\\n\\\\nSpecs: Approx. weight: 1 lb.1 oz. per pair. \\\\n\\\\nConstruction: Soft canvas material for a broken-in feel and look. Comfortable EVA innersole with Cleansport NXT\\\\u00ae antimicrobial odor control. Vintage hunt, fish and camping motif on innersole. Moderate arch contour of innersole. EVA foam midsole for cushioning and support. Chain-tread-inspired molded rubber outsole with modified chain-tread pattern. Imported. \\\\n\\\\nQuestions? Please contact us for any inquiries.\\\\n```\\\\nWomen\\'s Oboz Sapphire Waterproof Trail Boots :  Tackle any trail with waterproof day hikers designed specifically for women. Not simply men\\'s boots made smaller, they\\'re engineered for the unique bone structure of women\\\\u2019s feet, providing superior comfort with every step. \\\\n\\\\nSpecs: Approx. weight: 1 lb. 13 oz. per pair. \\\\n\\\\nConstruction: Articulated upper provides extra ankle support on crooked crags and steep slopes. Nubuck leather upper with waterproof, breathable B Dry. Durable polyurethane-coated leather toe-and-heel guard protects feet on the trail. Arch-supporting insole for optimal flexibility and propulsion. Tuned, single-density EVA midsole provides soft cushioning. Grippy outsole for dependable traction. \\\\n\\\\nAdditional Features: Oboz plants a tree for every pair of shoes sold, in partnership with Trees for the Future. Imported.\\\\n```\\\\nWomen\\'s Oboz Sawtooth Trekking Shoes :  With their athletic profile and heavy-duty tread, these Oboz Sawtooth hiking shoes are a great choice for everything from a walk in the park to tackling the most challenging trails. Ventilated design is perfect for warm weather.\\\\n\\\\nSize & Fit\\\\nOrder your regular shoe size.\\\\n\\\\nSpecs\\\\nApprox. weight: 1 lb. 8 oz.\\\\n\\\\nConstruction\\\\nNew upper and panel mesh are softer and more breathable.\\\\nNubuck leather upper with abrasion-resistant synthetic panels.\\\\n3D molded heel counter helps shoes maintain a snug, comfortable heel hold over time.\\\\nDual-density EVA midsole provides supportive balanced cushioning.\\\\nNylon shank offers added support between heel and forefoot.\\\\nClassic Oboz Sawtooth sole sheds mud and provides exceptional traction.\\\\nSidewall lugs grip off-camber trails while shaving weight.\\\\nLow-density EVA pods provide cushioning and comfort.\\\\nImported. \\\\n    \\\\n    Use the above documents delimited by triple backticks and answer the following question: What is the weight of the Women\\'s Campside Oxfords?\\\\n    \\\\n    \\\\n    \"}], \"temperature\": 0.0, \"top_p\": 1.0, \"presence_penalty\": 0.0, \"frequency_penalty\": 0.0, \"max_tokens\": 256, \"n\": 1, \"stream\": false}' message='Post details'\n"
     ]
    },
    {
     "name": "stderr",
     "output_type": "stream",
     "text": [
      "INFO:openai:message='OpenAI API response' path=https://api.openai.com/v1/chat/completions processing_ms=None request_id=3ffc0529ab2fed0b9e670fde572bdfbe response_code=429\n",
      "INFO:openai:error_code=None error_message='Rate limit reached for default-gpt-3.5-turbo in organization org-rocrupyvzgcl4yf25rqq6d1v on tokens per min. Limit: 90000 / min. Current: 89510 / min. Contact us through our help center at help.openai.com if you continue to have issues.' error_param=None error_type=tokens message='OpenAI API error received' stream_error=False\n",
      "DEBUG:openai:message='Request to OpenAI API' method=post path=https://api.openai.com/v1/embeddings\n",
      "DEBUG:openai:api_version=None data='{\"model\": \"text-embedding-ada-002\", \"input\": [\"What is the size of the Small Recycled Waterhog Dog Mat?\"], \"encoding_format\": \"base64\"}' message='Post details'\n",
      "INFO:openai:message='OpenAI API response' path=https://api.openai.com/v1/embeddings processing_ms=35 request_id=7a0ce1ec3f62317bd1ebee9e59a69a5e response_code=200\n",
      "DEBUG:chromadb.db.index.hnswlib:time to pre process our knn query: 1.1920928955078125e-06\n",
      "DEBUG:chromadb.db.index.hnswlib:time to run knn query: 0.0003917217254638672\n",
      "DEBUG:__name__:Extracting blocks from template: {{ $qdocs}} \n",
      "    \n",
      "    Use the above documents delimited by triple backticks and answer the following question: {{ $query }}\n",
      "    \n",
      "    \n",
      "    \n",
      "DEBUG:asyncio:Using selector: EpollSelector\n",
      "DEBUG:__name__:Rendering string template: {{ $qdocs}} \n",
      "    \n",
      "    Use the above documents delimited by triple backticks and answer the following question: {{ $query }}\n",
      "    \n",
      "    \n",
      "    \n",
      "DEBUG:__name__:Extracting blocks from template: {{ $qdocs}} \n",
      "    \n",
      "    Use the above documents delimited by triple backticks and answer the following question: {{ $query }}\n",
      "    \n",
      "    \n",
      "    \n",
      "DEBUG:__name__:Rendering list of 4 blocks\n",
      "DEBUG:__name__:Rendered prompt: Recycled Waterhog Dog Mat, Chevron Weave :  Protect your floors from spills and splashing with our ultradurable recycled Waterhog dog mat made right here in the USA. \n",
      "\n",
      "Specs\n",
      "Small - Dimensions: 18\" x 28\". \n",
      "Medium - Dimensions: 22.5\" x 34.5\".\n",
      "\n",
      "Why We Love It\n",
      "Mother nature, wet shoes and muddy paws have met their match with our Recycled Waterhog mats. Ruggedly constructed from recycled plastic materials, these ultratough mats help keep dirt and water off your floors and plastic out of landfills, trails and oceans. Now, that's a win-win for everyone.\n",
      "\n",
      "Fabric & Care\n",
      "Vacuum or hose clean.\n",
      "\n",
      "Construction\n",
      "24 oz. polyester fabric made from 94% recycled materials.\n",
      "Rubber backing.\n",
      "\n",
      "Additional Features\n",
      "Features an -exclusive design.\n",
      "Features thick and thin fibers for scraping dirt and absorbing water.\n",
      "Dries quickly and resists fading, rotting, mildew and shedding.\n",
      "Use indoors or out.\n",
      "Made in the USA.\n",
      "\n",
      "Have questions? Reach out to our customer service team with any questions you may have.\n",
      "```\n",
      "Doggy Den Pad :  Keep your dog comfortable on the go with our dog kennel pad that features a water-resistant polyester cover and a 2\" foam that insulates from the cold kennel floor. Specs: Intermediate: Dimensions: 17\" x 26\". Large: Dimensions: 18\" x 30\". Extra-Large: Dimensions: 22\" x 33\". Construction: Polyester cover and foam. Imported. If you have any questions, please contact us.\n",
      "```\n",
      "Customized Canine Collar :  Make sure your pet can be easily identified with our personalized dog leash. \n",
      "\n",
      "Specs: \n",
      "Dimensions: 6' x 5/8\". \n",
      "Dimensions: 6' x 1\". \n",
      "\n",
      "Construction:\n",
      "Durable nylon webbing.\n",
      "Metal swivel clip.\n",
      "\n",
      "Additional Features:\n",
      "Personalize up to 23 characters, including spaces.\n",
      "Note: for words like “McCosh” with a capital letter in other than first position, please contact us. \n",
      "Made in USA.\n",
      "\n",
      "Questions? Please contact us. \n",
      "    \n",
      "    Use the above documents delimited by triple backticks and answer the following question: What is the size of the Small Recycled Waterhog Dog Mat?\n",
      "    \n",
      "    \n",
      "    \n",
      "DEBUG:openai:message='Request to OpenAI API' method=post path=https://api.openai.com/v1/chat/completions\n",
      "DEBUG:openai:api_version=None data='{\"model\": \"gpt-3.5-turbo\", \"messages\": [{\"role\": \"user\", \"content\": \"Recycled Waterhog Dog Mat, Chevron Weave :  Protect your floors from spills and splashing with our ultradurable recycled Waterhog dog mat made right here in the USA. \\\\n\\\\nSpecs\\\\nSmall - Dimensions: 18\\\\\" x 28\\\\\". \\\\nMedium - Dimensions: 22.5\\\\\" x 34.5\\\\\".\\\\n\\\\nWhy We Love It\\\\nMother nature, wet shoes and muddy paws have met their match with our Recycled Waterhog mats. Ruggedly constructed from recycled plastic materials, these ultratough mats help keep dirt and water off your floors and plastic out of landfills, trails and oceans. Now, that\\'s a win-win for everyone.\\\\n\\\\nFabric & Care\\\\nVacuum or hose clean.\\\\n\\\\nConstruction\\\\n24 oz. polyester fabric made from 94% recycled materials.\\\\nRubber backing.\\\\n\\\\nAdditional Features\\\\nFeatures an -exclusive design.\\\\nFeatures thick and thin fibers for scraping dirt and absorbing water.\\\\nDries quickly and resists fading, rotting, mildew and shedding.\\\\nUse indoors or out.\\\\nMade in the USA.\\\\n\\\\nHave questions? Reach out to our customer service team with any questions you may have.\\\\n```\\\\nDoggy Den Pad :  Keep your dog comfortable on the go with our dog kennel pad that features a water-resistant polyester cover and a 2\\\\\" foam that insulates from the cold kennel floor. Specs: Intermediate: Dimensions: 17\\\\\" x 26\\\\\". Large: Dimensions: 18\\\\\" x 30\\\\\". Extra-Large: Dimensions: 22\\\\\" x 33\\\\\". Construction: Polyester cover and foam. Imported. If you have any questions, please contact us.\\\\n```\\\\nCustomized Canine Collar :  Make sure your pet can be easily identified with our personalized dog leash. \\\\n\\\\nSpecs: \\\\nDimensions: 6\\' x 5/8\\\\\". \\\\nDimensions: 6\\' x 1\\\\\". \\\\n\\\\nConstruction:\\\\nDurable nylon webbing.\\\\nMetal swivel clip.\\\\n\\\\nAdditional Features:\\\\nPersonalize up to 23 characters, including spaces.\\\\nNote: for words like \\\\u201cMcCosh\\\\u201d with a capital letter in other than first position, please contact us. \\\\nMade in USA.\\\\n\\\\nQuestions? Please contact us. \\\\n    \\\\n    Use the above documents delimited by triple backticks and answer the following question: What is the size of the Small Recycled Waterhog Dog Mat?\\\\n    \\\\n    \\\\n    \"}], \"temperature\": 0.0, \"top_p\": 1.0, \"presence_penalty\": 0.0, \"frequency_penalty\": 0.0, \"max_tokens\": 256, \"n\": 1, \"stream\": false}' message='Post details'\n",
      "INFO:openai:message='OpenAI API response' path=https://api.openai.com/v1/chat/completions processing_ms=None request_id=5d8f9884efd6b8a97d473eb2db69a0a2 response_code=429\n",
      "INFO:openai:error_code=None error_message='Rate limit reached for default-gpt-3.5-turbo in organization org-rocrupyvzgcl4yf25rqq6d1v on tokens per min. Limit: 90000 / min. Current: 89735 / min. Contact us through our help center at help.openai.com if you continue to have issues.' error_param=None error_type=tokens message='OpenAI API error received' stream_error=False\n",
      "DEBUG:openai:message='Request to OpenAI API' method=post path=https://api.openai.com/v1/embeddings\n",
      "DEBUG:openai:api_version=None data='{\"model\": \"text-embedding-ada-002\", \"input\": [\"What is the fabric composition of the Recycled Waterhog Dog Mat?\"], \"encoding_format\": \"base64\"}' message='Post details'\n",
      "INFO:openai:message='OpenAI API response' path=https://api.openai.com/v1/embeddings processing_ms=27 request_id=754274f175a6d9171724bd4fb11ecf37 response_code=200\n",
      "DEBUG:chromadb.db.index.hnswlib:time to pre process our knn query: 2.1457672119140625e-06\n",
      "DEBUG:chromadb.db.index.hnswlib:time to run knn query: 0.0002014636993408203\n",
      "DEBUG:__name__:Extracting blocks from template: {{ $qdocs}} \n",
      "    \n",
      "    Use the above documents delimited by triple backticks and answer the following question: {{ $query }}\n",
      "    \n",
      "    \n",
      "    \n",
      "DEBUG:asyncio:Using selector: EpollSelector\n",
      "DEBUG:__name__:Rendering string template: {{ $qdocs}} \n",
      "    \n",
      "    Use the above documents delimited by triple backticks and answer the following question: {{ $query }}\n",
      "    \n",
      "    \n",
      "    \n",
      "DEBUG:__name__:Extracting blocks from template: {{ $qdocs}} \n",
      "    \n",
      "    Use the above documents delimited by triple backticks and answer the following question: {{ $query }}\n",
      "    \n",
      "    \n",
      "    \n",
      "DEBUG:__name__:Rendering list of 4 blocks\n",
      "DEBUG:__name__:Rendered prompt: Recycled Waterhog Dog Mat, Chevron Weave :  Protect your floors from spills and splashing with our ultradurable recycled Waterhog dog mat made right here in the USA. \n",
      "\n",
      "Specs\n",
      "Small - Dimensions: 18\" x 28\". \n",
      "Medium - Dimensions: 22.5\" x 34.5\".\n",
      "\n",
      "Why We Love It\n",
      "Mother nature, wet shoes and muddy paws have met their match with our Recycled Waterhog mats. Ruggedly constructed from recycled plastic materials, these ultratough mats help keep dirt and water off your floors and plastic out of landfills, trails and oceans. Now, that's a win-win for everyone.\n",
      "\n",
      "Fabric & Care\n",
      "Vacuum or hose clean.\n",
      "\n",
      "Construction\n",
      "24 oz. polyester fabric made from 94% recycled materials.\n",
      "Rubber backing.\n",
      "\n",
      "Additional Features\n",
      "Features an -exclusive design.\n",
      "Features thick and thin fibers for scraping dirt and absorbing water.\n",
      "Dries quickly and resists fading, rotting, mildew and shedding.\n",
      "Use indoors or out.\n",
      "Made in the USA.\n",
      "\n",
      "Have questions? Reach out to our customer service team with any questions you may have.\n",
      "```\n",
      "PupPal Striped Dog Bed :  Our Sunbrella performance fabric dog beds are perfect for any place - from the park to the bedroom, from the porch to the backyard. The ultra-durable fabric resists water, stains, chlorine, fading, mold, and mildew, so you can feel confident that your pup's bed will look great inside and outside. \n",
      "\n",
      "Specs\n",
      "Medium\n",
      "Dimensions: 36\"L x 28\"W x 4\"H.\n",
      "For dogs: 25 to 60 lb.\n",
      "\n",
      "Large\n",
      "Dimensions: 44\"L x 34\"W x 5\"H.\n",
      "For dog: 60 to 90 lb.\n",
      "\n",
      "Fabric & Care\n",
      "Machine wash, line dry.\n",
      "\n",
      "Construction\n",
      "Cover is made from soft, fade-resistant Sunbrella fabric.\n",
      "Insert is made from quick-drying densified polyester fill.\n",
      "\n",
      "Additional Features\n",
      "Striped Sunbrella cover is an  exclusive.\n",
      "Specially designed for indoor and outdoor use, ensuring more comfort and less worry.\n",
      "Cover coordinates with our Casco Bay Outdoor Cushions, sold separately.\n",
      "Cover fabric is made in USA; sewn and finished abroad.\n",
      "Insert is made in USA.\n",
      "\n",
      "Questions?\n",
      "Feel\n",
      "```\n",
      "Doggy Den Pad :  Keep your dog comfortable on the go with our dog kennel pad that features a water-resistant polyester cover and a 2\" foam that insulates from the cold kennel floor. Specs: Intermediate: Dimensions: 17\" x 26\". Large: Dimensions: 18\" x 30\". Extra-Large: Dimensions: 22\" x 33\". Construction: Polyester cover and foam. Imported. If you have any questions, please contact us. \n",
      "    \n",
      "    Use the above documents delimited by triple backticks and answer the following question: What is the fabric composition of the Recycled Waterhog Dog Mat?\n",
      "    \n",
      "    \n",
      "    \n"
     ]
    },
    {
     "name": "stderr",
     "output_type": "stream",
     "text": [
      "DEBUG:openai:message='Request to OpenAI API' method=post path=https://api.openai.com/v1/chat/completions\n",
      "DEBUG:openai:api_version=None data='{\"model\": \"gpt-3.5-turbo\", \"messages\": [{\"role\": \"user\", \"content\": \"Recycled Waterhog Dog Mat, Chevron Weave :  Protect your floors from spills and splashing with our ultradurable recycled Waterhog dog mat made right here in the USA. \\\\n\\\\nSpecs\\\\nSmall - Dimensions: 18\\\\\" x 28\\\\\". \\\\nMedium - Dimensions: 22.5\\\\\" x 34.5\\\\\".\\\\n\\\\nWhy We Love It\\\\nMother nature, wet shoes and muddy paws have met their match with our Recycled Waterhog mats. Ruggedly constructed from recycled plastic materials, these ultratough mats help keep dirt and water off your floors and plastic out of landfills, trails and oceans. Now, that\\'s a win-win for everyone.\\\\n\\\\nFabric & Care\\\\nVacuum or hose clean.\\\\n\\\\nConstruction\\\\n24 oz. polyester fabric made from 94% recycled materials.\\\\nRubber backing.\\\\n\\\\nAdditional Features\\\\nFeatures an -exclusive design.\\\\nFeatures thick and thin fibers for scraping dirt and absorbing water.\\\\nDries quickly and resists fading, rotting, mildew and shedding.\\\\nUse indoors or out.\\\\nMade in the USA.\\\\n\\\\nHave questions? Reach out to our customer service team with any questions you may have.\\\\n```\\\\nPupPal Striped Dog Bed :  Our Sunbrella performance fabric dog beds are perfect for any place - from the park to the bedroom, from the porch to the backyard. The ultra-durable fabric resists water, stains, chlorine, fading, mold, and mildew, so you can feel confident that your pup\\'s bed will look great inside and outside. \\\\n\\\\nSpecs\\\\nMedium\\\\nDimensions: 36\\\\\"L x 28\\\\\"W x 4\\\\\"H.\\\\nFor dogs: 25 to 60 lb.\\\\n\\\\nLarge\\\\nDimensions: 44\\\\\"L x 34\\\\\"W x 5\\\\\"H.\\\\nFor dog: 60 to 90 lb.\\\\n\\\\nFabric & Care\\\\nMachine wash, line dry.\\\\n\\\\nConstruction\\\\nCover is made from soft, fade-resistant Sunbrella fabric.\\\\nInsert is made from quick-drying densified polyester fill.\\\\n\\\\nAdditional Features\\\\nStriped Sunbrella cover is an  exclusive.\\\\nSpecially designed for indoor and outdoor use, ensuring more comfort and less worry.\\\\nCover coordinates with our Casco Bay Outdoor Cushions, sold separately.\\\\nCover fabric is made in USA; sewn and finished abroad.\\\\nInsert is made in USA.\\\\n\\\\nQuestions?\\\\nFeel\\\\n```\\\\nDoggy Den Pad :  Keep your dog comfortable on the go with our dog kennel pad that features a water-resistant polyester cover and a 2\\\\\" foam that insulates from the cold kennel floor. Specs: Intermediate: Dimensions: 17\\\\\" x 26\\\\\". Large: Dimensions: 18\\\\\" x 30\\\\\". Extra-Large: Dimensions: 22\\\\\" x 33\\\\\". Construction: Polyester cover and foam. Imported. If you have any questions, please contact us. \\\\n    \\\\n    Use the above documents delimited by triple backticks and answer the following question: What is the fabric composition of the Recycled Waterhog Dog Mat?\\\\n    \\\\n    \\\\n    \"}], \"temperature\": 0.0, \"top_p\": 1.0, \"presence_penalty\": 0.0, \"frequency_penalty\": 0.0, \"max_tokens\": 256, \"n\": 1, \"stream\": false}' message='Post details'\n",
      "INFO:openai:message='OpenAI API response' path=https://api.openai.com/v1/chat/completions processing_ms=None request_id=b5056a6a93c480b40265f5d698fb43f0 response_code=429\n",
      "INFO:openai:error_code=None error_message='Rate limit reached for default-gpt-3.5-turbo in organization org-rocrupyvzgcl4yf25rqq6d1v on tokens per min. Limit: 90000 / min. Current: 89289 / min. Contact us through our help center at help.openai.com if you continue to have issues.' error_param=None error_type=tokens message='OpenAI API error received' stream_error=False\n",
      "DEBUG:openai:message='Request to OpenAI API' method=post path=https://api.openai.com/v1/embeddings\n",
      "DEBUG:openai:api_version=None data='{\"model\": \"text-embedding-ada-002\", \"input\": [\"What is the sun protection rating of the Infant and Toddler Girls\\' Coastal Chill Swimsuit?\"], \"encoding_format\": \"base64\"}' message='Post details'\n",
      "INFO:openai:message='OpenAI API response' path=https://api.openai.com/v1/embeddings processing_ms=69 request_id=6259ffe227d063df53c8d79d94a6f0a3 response_code=200\n",
      "DEBUG:chromadb.db.index.hnswlib:time to pre process our knn query: 3.5762786865234375e-06\n",
      "DEBUG:chromadb.db.index.hnswlib:time to run knn query: 0.00038170814514160156\n",
      "DEBUG:__name__:Extracting blocks from template: {{ $qdocs}} \n",
      "    \n",
      "    Use the above documents delimited by triple backticks and answer the following question: {{ $query }}\n",
      "    \n",
      "    \n",
      "    \n",
      "DEBUG:asyncio:Using selector: EpollSelector\n",
      "DEBUG:__name__:Rendering string template: {{ $qdocs}} \n",
      "    \n",
      "    Use the above documents delimited by triple backticks and answer the following question: {{ $query }}\n",
      "    \n",
      "    \n",
      "    \n",
      "DEBUG:__name__:Extracting blocks from template: {{ $qdocs}} \n",
      "    \n",
      "    Use the above documents delimited by triple backticks and answer the following question: {{ $query }}\n",
      "    \n",
      "    \n",
      "    \n",
      "DEBUG:__name__:Rendering list of 4 blocks\n",
      "DEBUG:__name__:Rendered prompt: Infant and Toddler Girls' Coastal Chill Swimsuit, Two-Piece :  She'll love the bright colors, ruffles and exclusive whimsical prints of this toddler's two-piece swimsuit! Our four-way-stretch and chlorine-resistant fabric keeps its shape and resists snags. The UPF 50+ rated fabric provides the highest rated sun protection possible, blocking 98% of the sun's harmful rays. The crossover no-slip straps and fully lined bottom ensure a secure fit and maximum coverage. Machine wash and line dry for best results. Imported.\n",
      "```\n",
      "Girls' Aquatic Adventure Swimsuit, One-piece, Long Sleeve, Colorblock :  Whether it's relaxing on the beach or paddling on the water, this long-sleeved, UPF 50+ rated girls' swimsuit makes it easy to focus on the fun. Fabric & Care: 78% recycled nylon, 22% Xtra Life Lycra. Machine wash, line dry. Additional Features: UPF 50+ rated, the highest rated sun protection possible. Made from recycled content from fishing nets to help minimize our environmental impact. Long sleeves offers great coverage; no need to layer on a rash guard. Breathable and quick drying, with comfortable stretch for great freedom of movement. Front zipper for easy on-off, even when wet. Imported.\n",
      "```\n",
      "Girls' Ocean Breeze Long-Sleeve Stripe Shirt :  This long-sleeve sun-protection rash guard offers full-coverage so she can play and you can relax at the beach or poolside. Fabric & Care: Nylon Lycra®-elastane blend with UPF 50+ rated – the highest rated sun protection possible. Recommended by the Skin Cancer Foundation as an effective UV protectant. Quick-drying and fade-resistant. Machine wash, line dry. Additional Features: Holds shape well. Durable seawater-resistant fabric retains its color. Coordinates easily with our line of swimsuits. Imported.\n",
      "\n",
      "Sun Protection That Won't Wear Off\n",
      "Our high-performance fabric provides SPF 50+ sun protection, blocking 98% of the sun's harmful rays. This fabric is recommended by The Skin Cancer Foundation as an effective UV protectant. \n",
      "    \n",
      "    Use the above documents delimited by triple backticks and answer the following question: What is the sun protection rating of the Infant and Toddler Girls' Coastal Chill Swimsuit?\n",
      "    \n",
      "    \n",
      "    \n",
      "DEBUG:openai:message='Request to OpenAI API' method=post path=https://api.openai.com/v1/chat/completions\n",
      "DEBUG:openai:api_version=None data='{\"model\": \"gpt-3.5-turbo\", \"messages\": [{\"role\": \"user\", \"content\": \"Infant and Toddler Girls\\' Coastal Chill Swimsuit, Two-Piece :  She\\'ll love the bright colors, ruffles and exclusive whimsical prints of this toddler\\'s two-piece swimsuit! Our four-way-stretch and chlorine-resistant fabric keeps its shape and resists snags. The UPF 50+ rated fabric provides the highest rated sun protection possible, blocking 98% of the sun\\'s harmful rays. The crossover no-slip straps and fully lined bottom ensure a secure fit and maximum coverage. Machine wash and line dry for best results. Imported.\\\\n```\\\\nGirls\\' Aquatic Adventure Swimsuit, One-piece, Long Sleeve, Colorblock :  Whether it\\'s relaxing on the beach or paddling on the water, this long-sleeved, UPF 50+ rated girls\\' swimsuit makes it easy to focus on the fun. Fabric & Care: 78% recycled nylon, 22% Xtra Life Lycra. Machine wash, line dry. Additional Features: UPF 50+ rated, the highest rated sun protection possible. Made from recycled content from fishing nets to help minimize our environmental impact. Long sleeves offers great coverage; no need to layer on a rash guard. Breathable and quick drying, with comfortable stretch for great freedom of movement. Front zipper for easy on-off, even when wet. Imported.\\\\n```\\\\nGirls\\' Ocean Breeze Long-Sleeve Stripe Shirt :  This long-sleeve sun-protection rash guard offers full-coverage so she can play and you can relax at the beach or poolside. Fabric & Care: Nylon Lycra\\\\u00ae-elastane blend with UPF 50+ rated \\\\u2013 the highest rated sun protection possible. Recommended by the Skin Cancer Foundation as an effective UV protectant. Quick-drying and fade-resistant. Machine wash, line dry. Additional Features: Holds shape well. Durable seawater-resistant fabric retains its color. Coordinates easily with our line of swimsuits. Imported.\\\\n\\\\nSun Protection That Won\\'t Wear Off\\\\nOur high-performance fabric provides SPF 50+ sun protection, blocking 98% of the sun\\'s harmful rays. This fabric is recommended by The Skin Cancer Foundation as an effective UV protectant. \\\\n    \\\\n    Use the above documents delimited by triple backticks and answer the following question: What is the sun protection rating of the Infant and Toddler Girls\\' Coastal Chill Swimsuit?\\\\n    \\\\n    \\\\n    \"}], \"temperature\": 0.0, \"top_p\": 1.0, \"presence_penalty\": 0.0, \"frequency_penalty\": 0.0, \"max_tokens\": 256, \"n\": 1, \"stream\": false}' message='Post details'\n"
     ]
    },
    {
     "name": "stderr",
     "output_type": "stream",
     "text": [
      "INFO:openai:message='OpenAI API response' path=https://api.openai.com/v1/chat/completions processing_ms=879 request_id=11806ca3644c02378ab39b7ba4d18c17 response_code=200\n"
     ]
    }
   ],
   "source": [
    "# Now that one example work, lets try to evaluate all evaluation questions\n",
    "# We will save inferred answer in the \"Predicted\" field\n",
    "for example in examples:\n",
    "    response = await ragqna(kernel, example[\"query\"], 3)\n",
    "    example[\"Predicted\"] = response[\"input\"]"
   ]
  },
  {
   "cell_type": "code",
   "execution_count": 64,
   "id": "777414de",
   "metadata": {},
   "outputs": [
    {
     "data": {
      "text/plain": [
       "[{'query': 'Do the Cozy Comfort Pullover Set        have side pockets?',\n",
       "  'answer': 'Yes',\n",
       "  'Predicted': 'Yes, the Cozy Comfort Pullover Set does have side pockets.'},\n",
       " {'query': 'What collection is the Ultra-Lofty         850 Stretch Down Hooded Jacket from?',\n",
       "  'answer': 'The DownTek collection',\n",
       "  'Predicted': 'The Ultra-Lofty 850 Stretch Down Hooded Jacket is from the DownTek collection.'},\n",
       " {'query': \"What is the weight of the Women's Campside Oxfords?\",\n",
       "  'answer': 'Approx. weight: 1 lb.1 oz. per pair.',\n",
       "  'Predicted': ''},\n",
       " {'query': 'What is the size of the Small Recycled Waterhog Dog Mat?',\n",
       "  'answer': 'Small - Dimensions: 18\" x 28\".',\n",
       "  'Predicted': ''},\n",
       " {'query': 'What is the fabric composition of the Recycled Waterhog Dog Mat?',\n",
       "  'answer': '24 oz. polyester fabric made from 94% recycled materials.',\n",
       "  'Predicted': ''},\n",
       " {'query': \"What is the sun protection rating of the Infant and Toddler Girls' Coastal Chill Swimsuit?\",\n",
       "  'answer': \"UPF 50+ rated fabric provides the highest rated sun protection possible, blocking 98% of the sun's harmful rays.\",\n",
       "  'Predicted': \"The sun protection rating of the Infant and Toddler Girls' Coastal Chill Swimsuit is UPF 50+.\"}]"
      ]
     },
     "execution_count": 64,
     "metadata": {},
     "output_type": "execute_result"
    }
   ],
   "source": [
    "examples"
   ]
  },
  {
   "cell_type": "markdown",
   "id": "d5bdbdce",
   "metadata": {},
   "source": [
    "## LLM assisted evaluation"
   ]
  },
  {
   "cell_type": "code",
   "execution_count": null,
   "id": "a4dca05a",
   "metadata": {
    "collapsed": true
   },
   "outputs": [],
   "source": [
    "#Exercise: You can also pass back this output to the LLM and ask it to check how close the \"answer\" to the \"predicted\"\n",
    "# Hint: You can use the Q&A and this example to do this"
   ]
  },
  {
   "cell_type": "code",
   "execution_count": null,
   "id": "f94cdacd",
   "metadata": {
    "collapsed": true
   },
   "outputs": [],
   "source": []
  }
 ],
 "metadata": {
  "kernelspec": {
   "display_name": "Python 3 (ipykernel)",
   "language": "python",
   "name": "python3"
  },
  "language_info": {
   "codemirror_mode": {
    "name": "ipython",
    "version": 3
   },
   "file_extension": ".py",
   "mimetype": "text/x-python",
   "name": "python",
   "nbconvert_exporter": "python",
   "pygments_lexer": "ipython3",
   "version": "3.9.16"
  }
 },
 "nbformat": 4,
 "nbformat_minor": 5
}
