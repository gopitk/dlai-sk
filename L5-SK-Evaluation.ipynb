{
 "cells": [
  {
   "cell_type": "markdown",
   "id": "52824b89-532a-4e54-87e9-1410813cd39e",
   "metadata": {},
   "source": [
    "# LangChain: Evaluation\n",
    "\n",
    "## Outline:\n",
    "\n",
    "* Example generation\n",
    "* Manual evaluation (and debuging)\n",
    "* LLM-assisted evaluation"
   ]
  },
  {
   "cell_type": "code",
   "execution_count": 1,
   "id": "b7ed03ed-1322-49e3-b2a2-33e94fb592ef",
   "metadata": {
    "tags": []
   },
   "outputs": [],
   "source": [
    "import os\n",
    "\n",
    "from dotenv import load_dotenv, find_dotenv\n",
    "_ = load_dotenv(find_dotenv()) # read local .env file"
   ]
  },
  {
   "cell_type": "code",
   "execution_count": 2,
   "id": "49c10742",
   "metadata": {},
   "outputs": [
    {
     "data": {
      "text/plain": [
       "<semantic_kernel.kernel.Kernel at 0x7f96c811b670>"
      ]
     },
     "execution_count": 2,
     "metadata": {},
     "output_type": "execute_result"
    }
   ],
   "source": [
    "import semantic_kernel as sk\n",
    "import os\n",
    "import logging\n",
    "from semantic_kernel.connectors.ai.open_ai import OpenAIChatCompletion\n",
    "\n",
    "logging.basicConfig(level=logging.DEBUG)\n",
    "logger = logging.getLogger('__name__')\n",
    "kernel=sk.Kernel(log=logger)\n",
    "\n",
    "api_key = os.environ['OPENAI_API_KEY']\n",
    "kernel.add_chat_service(\n",
    "        \"chat-gpt\", OpenAIChatCompletion(\"gpt-3.5-turbo\", api_key)\n",
    ")"
   ]
  },
  {
   "cell_type": "code",
   "execution_count": 3,
   "id": "021e3fcd",
   "metadata": {},
   "outputs": [
    {
     "data": {
      "text/plain": [
       "<semantic_kernel.kernel.Kernel at 0x7f96c811b670>"
      ]
     },
     "execution_count": 3,
     "metadata": {},
     "output_type": "execute_result"
    }
   ],
   "source": [
    "from semantic_kernel.connectors.ai.open_ai import OpenAITextEmbedding\n",
    "kernel.add_text_embedding_generation_service(\n",
    "        \"ada\", OpenAITextEmbedding(\"text-embedding-ada-002\", api_key)\n",
    "    )"
   ]
  },
  {
   "cell_type": "code",
   "execution_count": 4,
   "id": "e2b2d20b",
   "metadata": {},
   "outputs": [
    {
     "name": "stderr",
     "output_type": "stream",
     "text": [
      "INFO:numexpr.utils:NumExpr defaulting to 8 threads.\n",
      "INFO:chromadb.telemetry.posthog:Anonymized telemetry enabled. See https://docs.trychroma.com/telemetry for more information.\n",
      "INFO:clickhouse_connect.driver.ctypes:Successfully imported ClickHouse Connect C data optimizations\n",
      "DEBUG:clickhouse_connect.driver.ctypes:Successfully import ClickHouse Connect C/Numpy optimizations\n",
      "INFO:clickhouse_connect.json_impl:Using orjson library for writing JSON byte strings\n",
      "INFO:chromadb.db.duckdb:loaded in 1000 embeddings\n",
      "INFO:chromadb.db.duckdb:loaded in 1 collections\n"
     ]
    }
   ],
   "source": [
    "from semantic_kernel.connectors.memory.chroma import ChromaMemoryStore\n",
    "memstore=ChromaMemoryStore(persist_directory=\"catalog\")\n",
    "kernel.register_memory_store(memory_store=memstore)"
   ]
  },
  {
   "cell_type": "markdown",
   "id": "28008949",
   "metadata": {},
   "source": [
    "## Create our QandA application"
   ]
  },
  {
   "cell_type": "code",
   "execution_count": 5,
   "id": "a2006054",
   "metadata": {},
   "outputs": [],
   "source": [
    "import pandas as pd\n",
    "df = pd.read_csv('OutdoorClothingCatalog_1000.csv')"
   ]
  },
  {
   "cell_type": "markdown",
   "id": "791ebd73",
   "metadata": {},
   "source": [
    "### Coming up with test datapoints"
   ]
  },
  {
   "cell_type": "code",
   "execution_count": 6,
   "id": "4a4e59b5",
   "metadata": {},
   "outputs": [
    {
     "name": "stdout",
     "output_type": "stream",
     "text": [
      "name: Cozy Comfort Pullover Set, Stripe \n",
      "description: Perfect for lounging, this striped knit set lives up to its name. We used ultrasoft fabric and an easy design that's as comfortable at bedtime as it is when we have to make a quick run out.\n",
      "\n",
      "Size & Fit\n",
      "- Pants are Favorite Fit: Sits lower on the waist.\n",
      "- Relaxed Fit: Our most generous fit sits farthest from the body.\n",
      "\n",
      "Fabric & Care\n",
      "- In the softest blend of 63% polyester, 35% rayon and 2% spandex.\n",
      "\n",
      "Additional Features\n",
      "- Relaxed fit top with raglan sleeves and rounded hem.\n",
      "- Pull-on pants have a wide elastic waistband and drawstring, side pockets and a modern slim leg.\n",
      "\n",
      "Imported.\n"
     ]
    }
   ],
   "source": [
    "print(\"name:\", df.iloc[10][\"name\"], \"\\ndescription:\", df.iloc[10].description)"
   ]
  },
  {
   "cell_type": "code",
   "execution_count": 7,
   "id": "fb04a0f9",
   "metadata": {},
   "outputs": [
    {
     "name": "stdout",
     "output_type": "stream",
     "text": [
      "name: Ultra-Lofty 850 Stretch Down Hooded Jacket \n",
      "description: This technical stretch down jacket from our DownTek collection is sure to keep you warm and comfortable with its full-stretch construction providing exceptional range of motion. With a slightly fitted style that falls at the hip and best with a midweight layer, this jacket is suitable for light activity up to 20° and moderate activity up to -30°. The soft and durable 100% polyester shell offers complete windproof protection and is insulated with warm, lofty goose down. Other features include welded baffles for a no-stitch construction and excellent stretch, an adjustable hood, an interior media port and mesh stash pocket and a hem drawcord. Machine wash and dry. Imported.\n"
     ]
    }
   ],
   "source": [
    "print(\"name:\", df.iloc[11][\"name\"], \"\\ndescription:\", df.iloc[11].description)"
   ]
  },
  {
   "cell_type": "markdown",
   "id": "8d548aef",
   "metadata": {},
   "source": [
    "### Hard-coded examples"
   ]
  },
  {
   "cell_type": "code",
   "execution_count": 8,
   "id": "c2d59bf2",
   "metadata": {},
   "outputs": [],
   "source": [
    "examples = [\n",
    "    {\n",
    "        \"query\": \"Do the Cozy Comfort Pullover Set\\\n",
    "        have side pockets?\",\n",
    "        \"answer\": \"Yes\"\n",
    "    },\n",
    "    {\n",
    "        \"query\": \"What collection is the Ultra-Lofty \\\n",
    "        850 Stretch Down Hooded Jacket from?\",\n",
    "        \"answer\": \"The DownTek collection\"\n",
    "    }\n",
    "]"
   ]
  },
  {
   "cell_type": "markdown",
   "id": "c7ce3e4f",
   "metadata": {},
   "source": [
    "### LLM-Generated examples"
   ]
  },
  {
   "cell_type": "markdown",
   "id": "8b93bed0",
   "metadata": {},
   "source": [
    "#### Pick a few record to generate question from the LLM"
   ]
  },
  {
   "cell_type": "code",
   "execution_count": 9,
   "id": "d44f8376",
   "metadata": {},
   "outputs": [],
   "source": [
    "docs = await memstore.get_batch_async(collection_name=\"outdoordb\", keys=[\"0\", \"1\", \"2\", \"3\"], with_embeddings=False)\n"
   ]
  },
  {
   "cell_type": "code",
   "execution_count": 10,
   "id": "49e948bf",
   "metadata": {},
   "outputs": [
    {
     "data": {
      "text/plain": [
       "\"Women's Campside Oxfords :  This ultracomfortable lace-to-toe Oxford boasts a super-soft canvas, thick cushioning, and quality construction for a broken-in feel from the first time you put them on. \\n\\nSize & Fit: Order regular shoe size. For half sizes not offered, order up to next whole size. \\n\\nSpecs: Approx. weight: 1 lb.1 oz. per pair. \\n\\nConstruction: Soft canvas material for a broken-in feel and look. Comfortable EVA innersole with Cleansport NXT® antimicrobial odor control. Vintage hunt, fish and camping motif on innersole. Moderate arch contour of innersole. EVA foam midsole for cushioning and support. Chain-tread-inspired molded rubber outsole with modified chain-tread pattern. Imported. \\n\\nQuestions? Please contact us for any inquiries.\""
      ]
     },
     "execution_count": 10,
     "metadata": {},
     "output_type": "execute_result"
    }
   ],
   "source": [
    "docs[0]._text"
   ]
  },
  {
   "cell_type": "code",
   "execution_count": 11,
   "id": "042788b9",
   "metadata": {},
   "outputs": [],
   "source": [
    "qdocs = \"\\n```\\n\".join([docs[i]._text for i in range(len(docs))])\n",
    "   \n",
    "    "
   ]
  },
  {
   "cell_type": "code",
   "execution_count": 12,
   "id": "839118bb",
   "metadata": {},
   "outputs": [],
   "source": [
    "async def example_gen_from_llm(qdocs) -> str :\n",
    "\n",
    "   \n",
    "    prompt = \"\"\"{{ $qdocs}} \n",
    "    \n",
    "    Question: Please generate one question and answer from each of above documents delimited by triple backticks  \n",
    "    and return results in a JSON list with fields named as query and answer.\n",
    "    \"\"\"\n",
    "    \n",
    "    questgen = kernel.create_semantic_function(prompt, temperature=0.0)\n",
    "    context_variables = sk.ContextVariables(variables={\n",
    "        \"qdocs\": qdocs\n",
    "    })\n",
    "    response = questgen(variables=context_variables)\n",
    "    return response"
   ]
  },
  {
   "cell_type": "code",
   "execution_count": null,
   "id": "62abae09",
   "metadata": {},
   "outputs": [],
   "source": [
    "new_examples = await example_gen_from_llm(qdocs)\n"
   ]
  },
  {
   "cell_type": "code",
   "execution_count": 14,
   "id": "97ab28b5",
   "metadata": {},
   "outputs": [
    {
     "data": {
      "text/plain": [
       "'[{\\n    \"query\": \"What is the weight of Women\\'s Campside Oxfords?\",\\n    \"answer\": \"The approximate weight of Women\\'s Campside Oxfords is 1 lb.1 oz. per pair.\"\\n},\\n{\\n    \"query\": \"What is the material used to make Recycled Waterhog Dog Mat?\",\\n    \"answer\": \"Recycled Waterhog Dog Mat is made from 24 oz. polyester fabric made from 94% recycled materials with rubber backing.\"\\n},\\n{\\n    \"query\": \"What is the sun protection rating of Infant and Toddler Girls\\' Coastal Chill Swimsuit?\",\\n    \"answer\": \"Infant and Toddler Girls\\' Coastal Chill Swimsuit has a UPF 50+ rated fabric which provides the highest rated sun protection possible, blocking 98% of the sun\\'s harmful rays.\"\\n},\\n{\\n    \"query\": \"What is the fabric composition of Refresh Swimwear, V-Neck Tankini Contrasts?\",\\n    \"answer\": \"Refresh Swimwear, V-Neck Tankini Contrasts is made from 82% recycled nylon with 18% Lycra® spandex for the body and 90% recycled nylon with 10% Lycra® spandex for lining.\"\\n}]'"
      ]
     },
     "execution_count": 14,
     "metadata": {},
     "output_type": "execute_result"
    }
   ],
   "source": [
    "new_examples[\"input\"]"
   ]
  },
  {
   "cell_type": "code",
   "execution_count": 15,
   "id": "0ebe4228",
   "metadata": {},
   "outputs": [],
   "source": [
    "import json\n",
    "jlist = json.loads(new_examples[\"input\"])\n"
   ]
  },
  {
   "cell_type": "markdown",
   "id": "faf25f2f",
   "metadata": {},
   "source": [
    "### Combine examples"
   ]
  },
  {
   "cell_type": "code",
   "execution_count": 16,
   "id": "ada2a3fc",
   "metadata": {},
   "outputs": [],
   "source": [
    "examples += jlist"
   ]
  },
  {
   "cell_type": "code",
   "execution_count": 17,
   "id": "9cdf5cf5",
   "metadata": {},
   "outputs": [],
   "source": [
    "async def ragqna(kernel, query, limit) -> str:\n",
    "    docs = await kernel.memory.search_async(collection=\"outdoordb\", limit=limit, min_relevance_score=0.3, query=query)\n",
    "    qdocs = \"\\n```\\n\".join([docs[i].text for i in range(len(docs))])\n",
    "    \n",
    "    prompt = \"\"\"{{ $qdocs}} \n",
    "    \n",
    "    Use the above documents delimited by triple backticks and answer the following question: {{ $query }}\n",
    "    \n",
    "    \n",
    "    \"\"\"\n",
    "    \n",
    "    qna = kernel.create_semantic_function(prompt, temperature=0.0)\n",
    "    context_variables = sk.ContextVariables(variables={\n",
    "        \"qdocs\": qdocs,\n",
    "        \"query\": query\n",
    "    })\n",
    "    response = qna(variables=context_variables)\n",
    "    return response"
   ]
  },
  {
   "cell_type": "markdown",
   "id": "63f3cb08",
   "metadata": {},
   "source": [
    "## Manual Evaluation"
   ]
  },
  {
   "cell_type": "code",
   "execution_count": null,
   "id": "8a142638",
   "metadata": {},
   "outputs": [],
   "source": [
    "response = await ragqna(kernel, examples[0][\"query\"], 3)"
   ]
  },
  {
   "cell_type": "code",
   "execution_count": 20,
   "id": "b3d6bef0",
   "metadata": {},
   "outputs": [
    {
     "data": {
      "text/plain": [
       "'Yes, the Cozy Comfort Pullover Set has side pockets.'"
      ]
     },
     "execution_count": 20,
     "metadata": {},
     "output_type": "execute_result"
    }
   ],
   "source": [
    "response[\"input\"]"
   ]
  },
  {
   "cell_type": "code",
   "execution_count": null,
   "id": "022edd6e",
   "metadata": {},
   "outputs": [],
   "source": [
    "for example in examples:\n",
    "    response = await ragqna(kernel, example[\"query\"], 3)\n",
    "    example[\"Predicted\"] = response[\"input\"]"
   ]
  },
  {
   "cell_type": "code",
   "execution_count": 22,
   "id": "777414de",
   "metadata": {},
   "outputs": [
    {
     "data": {
      "text/plain": [
       "[{'query': 'Do the Cozy Comfort Pullover Set        have side pockets?',\n",
       "  'answer': 'Yes',\n",
       "  'Predicted': 'Yes, the Cozy Comfort Pullover Set has side pockets.'},\n",
       " {'query': 'What collection is the Ultra-Lofty         850 Stretch Down Hooded Jacket from?',\n",
       "  'answer': 'The DownTek collection',\n",
       "  'Predicted': 'The Ultra-Lofty 850 Stretch Down Hooded Jacket is from the DownTek collection.'},\n",
       " {'query': \"What is the weight of Women's Campside Oxfords?\",\n",
       "  'answer': \"The approximate weight of Women's Campside Oxfords is 1 lb.1 oz. per pair.\",\n",
       "  'Predicted': \"The weight of Women's Campside Oxfords is approximately 1 lb. 1 oz. per pair.\"},\n",
       " {'query': 'What is the material used to make Recycled Waterhog Dog Mat?',\n",
       "  'answer': 'Recycled Waterhog Dog Mat is made from 24 oz. polyester fabric made from 94% recycled materials with rubber backing.',\n",
       "  'Predicted': 'The material used to make Recycled Waterhog Dog Mat is 24 oz. polyester fabric made from 94% recycled materials with a rubber backing.'},\n",
       " {'query': \"What is the sun protection rating of Infant and Toddler Girls' Coastal Chill Swimsuit?\",\n",
       "  'answer': \"Infant and Toddler Girls' Coastal Chill Swimsuit has a UPF 50+ rated fabric which provides the highest rated sun protection possible, blocking 98% of the sun's harmful rays.\",\n",
       "  'Predicted': \"The sun protection rating of Infant and Toddler Girls' Coastal Chill Swimsuit is UPF 50+.\"},\n",
       " {'query': 'What is the fabric composition of Refresh Swimwear, V-Neck Tankini Contrasts?',\n",
       "  'answer': 'Refresh Swimwear, V-Neck Tankini Contrasts is made from 82% recycled nylon with 18% Lycra® spandex for the body and 90% recycled nylon with 10% Lycra® spandex for lining.',\n",
       "  'Predicted': 'The fabric composition of Refresh Swimwear, V-Neck Tankini Contrasts is 82% recycled nylon with 18% Lycra® spandex for the body and 90% recycled nylon with 10% Lycra® spandex for the lining.'}]"
      ]
     },
     "execution_count": 22,
     "metadata": {},
     "output_type": "execute_result"
    }
   ],
   "source": [
    "examples"
   ]
  },
  {
   "cell_type": "markdown",
   "id": "d5bdbdce",
   "metadata": {},
   "source": [
    "## LLM assisted evaluation"
   ]
  },
  {
   "cell_type": "code",
   "execution_count": null,
   "id": "a4dca05a",
   "metadata": {
    "collapsed": true
   },
   "outputs": [],
   "source": [
    "#TODO"
   ]
  },
  {
   "cell_type": "code",
   "execution_count": null,
   "id": "f94cdacd",
   "metadata": {
    "collapsed": true
   },
   "outputs": [],
   "source": []
  }
 ],
 "metadata": {
  "kernelspec": {
   "display_name": "Python 3 (ipykernel)",
   "language": "python",
   "name": "python3"
  },
  "language_info": {
   "codemirror_mode": {
    "name": "ipython",
    "version": 3
   },
   "file_extension": ".py",
   "mimetype": "text/x-python",
   "name": "python",
   "nbconvert_exporter": "python",
   "pygments_lexer": "ipython3",
   "version": "3.9.16"
  }
 },
 "nbformat": 4,
 "nbformat_minor": 5
}
