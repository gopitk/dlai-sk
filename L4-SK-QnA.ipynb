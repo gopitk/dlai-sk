{
 "cells": [
  {
   "cell_type": "markdown",
   "id": "52824b89-532a-4e54-87e9-1410813cd39e",
   "metadata": {},
   "source": [
    "# SK: Q&A over Documents\n",
    "\n",
    "An example might be a tool that would allow you to query a product catalog for items of interest.\n",
    "Pre-requisite: You have already run L4-SK-CreateDB notebook to import the product catalog CSV file to a Chroma vector DB"
   ]
  },
  {
   "cell_type": "code",
   "execution_count": 1,
   "id": "10c1f7b9",
   "metadata": {},
   "outputs": [],
   "source": [
    "#pip install --upgrade semantic-kernel"
   ]
  },
  {
   "cell_type": "code",
   "execution_count": 2,
   "id": "b7ed03ed-1322-49e3-b2a2-33e94fb592ef",
   "metadata": {
    "tags": []
   },
   "outputs": [],
   "source": [
    "import os\n",
    "\n",
    "from dotenv import load_dotenv, find_dotenv\n",
    "_ = load_dotenv(find_dotenv()) # read local .env file"
   ]
  },
  {
   "cell_type": "code",
   "execution_count": 21,
   "id": "9a6ccfbd",
   "metadata": {},
   "outputs": [
    {
     "data": {
      "text/plain": [
       "<semantic_kernel.kernel.Kernel at 0x7efbf1d208e0>"
      ]
     },
     "execution_count": 21,
     "metadata": {},
     "output_type": "execute_result"
    }
   ],
   "source": [
    "import semantic_kernel as sk\n",
    "import os\n",
    "import logging\n",
    "from semantic_kernel.connectors.ai.open_ai import OpenAIChatCompletion\n",
    "\n",
    "logging.basicConfig(level=logging.DEBUG)\n",
    "logger = logging.getLogger('__name__')\n",
    "kernel=sk.Kernel(log=logger)\n",
    "\n",
    "api_key = os.environ['OPENAI_API_KEY']\n",
    "kernel.add_chat_service(\n",
    "        \"chat-gpt\", OpenAIChatCompletion(\"gpt-3.5-turbo-0301\", api_key)\n",
    ")"
   ]
  },
  {
   "cell_type": "code",
   "execution_count": 22,
   "id": "26340721",
   "metadata": {},
   "outputs": [
    {
     "data": {
      "text/plain": [
       "<semantic_kernel.kernel.Kernel at 0x7efbf1d208e0>"
      ]
     },
     "execution_count": 22,
     "metadata": {},
     "output_type": "execute_result"
    }
   ],
   "source": [
    "from semantic_kernel.connectors.ai.open_ai import OpenAITextEmbedding\n",
    "kernel.add_text_embedding_generation_service(\n",
    "        \"ada\", OpenAITextEmbedding(\"text-embedding-ada-002\", api_key)\n",
    "    )"
   ]
  },
  {
   "cell_type": "code",
   "execution_count": 23,
   "id": "16a2779b",
   "metadata": {},
   "outputs": [
    {
     "name": "stderr",
     "output_type": "stream",
     "text": [
      "INFO:chromadb.telemetry.posthog:Anonymized telemetry enabled. See https://docs.trychroma.com/telemetry for more information.\n",
      "INFO:chromadb.db.duckdb:loaded in 1000 embeddings\n",
      "INFO:chromadb.db.duckdb:loaded in 1 collections\n"
     ]
    }
   ],
   "source": [
    "# Use the Chroma VectorDB create in previous notebook (L4-SK-CreateDB.ipynb)\n",
    "from semantic_kernel.connectors.memory.chroma import ChromaMemoryStore\n",
    "kernel.register_memory_store(memory_store=ChromaMemoryStore(persist_directory=\"catalog\"))"
   ]
  },
  {
   "cell_type": "code",
   "execution_count": 6,
   "id": "e3988444",
   "metadata": {},
   "outputs": [],
   "source": [
    "query =\"Please suggest a shirt with sunblocking\""
   ]
  },
  {
   "cell_type": "code",
   "execution_count": 7,
   "id": "fd4a10a5",
   "metadata": {},
   "outputs": [
    {
     "name": "stderr",
     "output_type": "stream",
     "text": [
      "DEBUG:openai:message='Request to OpenAI API' method=post path=https://api.openai.com/v1/embeddings\n",
      "DEBUG:openai:api_version=None data='{\"model\": \"text-embedding-ada-002\", \"input\": [\"Please suggest a shirt with sunblocking\"], \"encoding_format\": \"base64\"}' message='Post details'\n",
      "INFO:openai:message='OpenAI API response' path=https://api.openai.com/v1/embeddings processing_ms=26 request_id=e979e4e21026ba4829005e161306a8c9 response_code=200\n",
      "DEBUG:chromadb.db.index.hnswlib:time to pre process our knn query: 4.0531158447265625e-06\n",
      "DEBUG:chromadb.db.index.hnswlib:time to run knn query: 0.00043582916259765625\n"
     ]
    }
   ],
   "source": [
    "# Query the vector DB locally\n",
    "docs = await kernel.memory.search_async(collection=\"outdoordb\", limit=5, min_relevance_score=0.3, query=query)"
   ]
  },
  {
   "cell_type": "code",
   "execution_count": 8,
   "id": "6bbb9a54",
   "metadata": {},
   "outputs": [
    {
     "data": {
      "text/plain": [
       "'Sun Shield Shirt by  :  \"Block the sun, not the fun – our high-performance sun shirt is guaranteed to protect from harmful UV rays. \\n\\nSize & Fit: Slightly Fitted: Softly shapes the body. Falls at hip.\\n\\nFabric & Care: 78% nylon, 22% Lycra Xtra Life fiber. UPF 50+ rated – the highest rated sun protection possible. Handwash, line dry.\\n\\nAdditional Features: Wicks moisture for quick-drying comfort. Fits comfortably over your favorite swimsuit. Abrasion resistant for season after season of wear. Imported.\\n\\nSun Protection That Won\\'t Wear Off\\nOur high-performance fabric provides SPF 50+ sun protection, blocking 98% of the sun\\'s harmful rays. This fabric is recommended by The Skin Cancer Foundation as an effective UV protectant.'"
      ]
     },
     "execution_count": 8,
     "metadata": {},
     "output_type": "execute_result"
    }
   ],
   "source": [
    "docs[0].text"
   ]
  },
  {
   "cell_type": "code",
   "execution_count": 24,
   "id": "d13528f7",
   "metadata": {},
   "outputs": [],
   "source": [
    "# Now lets augment the LLM query with retrieval from the local vector DB with the RAG (Retrieval Augmented Generation) pattern\n",
    "# The prompt below should be self explanatory of what we are tryign to do with this RAG pattern\n",
    "async def ragqna(kernel, query, limit) -> str:\n",
    "    # Step1: Retrieval: Get list of documents from local DB matching the query\n",
    "    docs = await kernel.memory.search_async(collection=\"outdoordb\", limit=limit, min_relevance_score=0.3, query=query)\n",
    "    # Step2: Augment: Construct the augmented prompt from the retrieved document. Retrieved docs separated by triple backticks to make it easy for LLM to instruct\n",
    "    qdocs = \"\\n```\\n\".join([docs[i].text for i in range(len(docs))])\n",
    "    \n",
    "    prompt = \"\"\"{{ $qdocs}} \n",
    "    \n",
    "    Question: Please query above documents delimited by triple backticks for {{ $query }} \n",
    "    and return results in a table in markdown and summarize each one.\n",
    "    \"\"\"\n",
    "    \n",
    "    # Step3: Generation: Generate a summary and markdown formatted output as requested in the prompt from the LLM API\n",
    "    summarize = kernel.create_semantic_function(prompt, temperature=0.0)\n",
    "    context_variables = sk.ContextVariables(variables={\n",
    "        \"qdocs\": qdocs,\n",
    "        \"query\": query\n",
    "    })\n",
    "    response = summarize(variables=context_variables)\n",
    "    return response"
   ]
  },
  {
   "cell_type": "code",
   "execution_count": 25,
   "id": "c0c3596e",
   "metadata": {},
   "outputs": [
    {
     "name": "stderr",
     "output_type": "stream",
     "text": [
      "DEBUG:openai:message='Request to OpenAI API' method=post path=https://api.openai.com/v1/embeddings\n",
      "DEBUG:openai:api_version=None data='{\"model\": \"text-embedding-ada-002\", \"input\": [\"shirts with sunblocking\"], \"encoding_format\": \"base64\"}' message='Post details'\n",
      "INFO:openai:message='OpenAI API response' path=https://api.openai.com/v1/embeddings processing_ms=44 request_id=842f8c35f29c37e258f9ee5e312e5b77 response_code=200\n",
      "DEBUG:chromadb.db.index.hnswlib:time to pre process our knn query: 3.814697265625e-06\n",
      "DEBUG:chromadb.db.index.hnswlib:time to run knn query: 0.0004448890686035156\n",
      "DEBUG:__name__:Extracting blocks from template: {{ $qdocs}} \n",
      "    \n",
      "    Question: Please query above documents delimited by triple backticks for {{ $query }} \n",
      "    and return results in a table in markdown and summarize each one.\n",
      "    \n",
      "DEBUG:asyncio:Using selector: EpollSelector\n",
      "DEBUG:__name__:Rendering string template: {{ $qdocs}} \n",
      "    \n",
      "    Question: Please query above documents delimited by triple backticks for {{ $query }} \n",
      "    and return results in a table in markdown and summarize each one.\n",
      "    \n",
      "DEBUG:__name__:Extracting blocks from template: {{ $qdocs}} \n",
      "    \n",
      "    Question: Please query above documents delimited by triple backticks for {{ $query }} \n",
      "    and return results in a table in markdown and summarize each one.\n",
      "    \n",
      "DEBUG:__name__:Rendering list of 4 blocks\n",
      "DEBUG:__name__:Rendered prompt: Sun Shield Shirt by  :  \"Block the sun, not the fun – our high-performance sun shirt is guaranteed to protect from harmful UV rays. \n",
      "\n",
      "Size & Fit: Slightly Fitted: Softly shapes the body. Falls at hip.\n",
      "\n",
      "Fabric & Care: 78% nylon, 22% Lycra Xtra Life fiber. UPF 50+ rated – the highest rated sun protection possible. Handwash, line dry.\n",
      "\n",
      "Additional Features: Wicks moisture for quick-drying comfort. Fits comfortably over your favorite swimsuit. Abrasion resistant for season after season of wear. Imported.\n",
      "\n",
      "Sun Protection That Won't Wear Off\n",
      "Our high-performance fabric provides SPF 50+ sun protection, blocking 98% of the sun's harmful rays. This fabric is recommended by The Skin Cancer Foundation as an effective UV protectant.\n",
      "```\n",
      "Men's Plaid Tropic Shirt, Short-Sleeve :  Our Ultracomfortable sun protection is rated to UPF 50+, helping you stay cool and dry. Originally designed for fishing, this lightest hot-weather shirt offers UPF 50+ coverage and is great for extended travel. SunSmart technology blocks 98% of the sun's harmful UV rays, while the high-performance fabric is wrinkle-free and quickly evaporates perspiration. Made with 52% polyester and 48% nylon, this shirt is machine washable and dryable. Additional features include front and back cape venting, two front bellows pockets and an imported design. With UPF 50+ coverage, you can limit sun exposure and feel secure with the highest rated sun protection available.\n",
      "```\n",
      "Women's Tropical Tee, Sleeveless :  Our five-star sleeveless button-up shirt has a fit to flatter and SunSmart™ protection to block the sun’s harmful UV rays. Size & Fit: Slightly Fitted: Softly shapes the body. Falls at hip. Fabric & Care: Shell: 71% nylon, 29% polyester. Cape lining: 100% polyester. Built-in SunSmart™ UPF 50+ rated – the highest rated sun protection possible. Machine wash and dry. Additional Features: Updated design with smoother buttons. Wrinkle resistant. Low-profile pockets and side shaping offer a more flattering fit. Front and back cape venting. Two front pockets, tool tabs and eyewear loop. Imported. Sun Protection That Won't Wear Off: Our high-performance fabric provides SPF 50+ sun protection, blocking 98% of the sun's harmful rays. \n",
      "    \n",
      "    Question: Please query above documents delimited by triple backticks for shirts with sunblocking \n",
      "    and return results in a table in markdown and summarize each one.\n",
      "    \n",
      "DEBUG:openai:message='Request to OpenAI API' method=post path=https://api.openai.com/v1/chat/completions\n",
      "DEBUG:openai:api_version=None data='{\"model\": \"gpt-3.5-turbo-0301\", \"messages\": [{\"role\": \"user\", \"content\": \"Sun Shield Shirt by  :  \\\\\"Block the sun, not the fun \\\\u2013 our high-performance sun shirt is guaranteed to protect from harmful UV rays. \\\\n\\\\nSize & Fit: Slightly Fitted: Softly shapes the body. Falls at hip.\\\\n\\\\nFabric & Care: 78% nylon, 22% Lycra Xtra Life fiber. UPF 50+ rated \\\\u2013 the highest rated sun protection possible. Handwash, line dry.\\\\n\\\\nAdditional Features: Wicks moisture for quick-drying comfort. Fits comfortably over your favorite swimsuit. Abrasion resistant for season after season of wear. Imported.\\\\n\\\\nSun Protection That Won\\'t Wear Off\\\\nOur high-performance fabric provides SPF 50+ sun protection, blocking 98% of the sun\\'s harmful rays. This fabric is recommended by The Skin Cancer Foundation as an effective UV protectant.\\\\n```\\\\nMen\\'s Plaid Tropic Shirt, Short-Sleeve :  Our Ultracomfortable sun protection is rated to UPF 50+, helping you stay cool and dry. Originally designed for fishing, this lightest hot-weather shirt offers UPF 50+ coverage and is great for extended travel. SunSmart technology blocks 98% of the sun\\'s harmful UV rays, while the high-performance fabric is wrinkle-free and quickly evaporates perspiration. Made with 52% polyester and 48% nylon, this shirt is machine washable and dryable. Additional features include front and back cape venting, two front bellows pockets and an imported design. With UPF 50+ coverage, you can limit sun exposure and feel secure with the highest rated sun protection available.\\\\n```\\\\nWomen\\'s Tropical Tee, Sleeveless :  Our five-star sleeveless button-up shirt has a fit to flatter and SunSmart\\\\u2122 protection to block the sun\\\\u2019s harmful UV rays. Size & Fit: Slightly Fitted: Softly shapes the body. Falls at hip. Fabric & Care: Shell: 71% nylon, 29% polyester. Cape lining: 100% polyester. Built-in SunSmart\\\\u2122 UPF 50+ rated \\\\u2013 the highest rated sun protection possible. Machine wash and dry. Additional Features: Updated design with smoother buttons. Wrinkle resistant. Low-profile pockets and side shaping offer a more flattering fit. Front and back cape venting. Two front pockets, tool tabs and eyewear loop. Imported. Sun Protection That Won\\'t Wear Off: Our high-performance fabric provides SPF 50+ sun protection, blocking 98% of the sun\\'s harmful rays. \\\\n    \\\\n    Question: Please query above documents delimited by triple backticks for shirts with sunblocking \\\\n    and return results in a table in markdown and summarize each one.\\\\n    \"}], \"temperature\": 0.0, \"top_p\": 1.0, \"presence_penalty\": 0.0, \"frequency_penalty\": 0.0, \"max_tokens\": 256, \"n\": 1, \"stream\": false}' message='Post details'\n",
      "INFO:openai:message='OpenAI API response' path=https://api.openai.com/v1/chat/completions processing_ms=4589 request_id=2c4f147b4bb316bb811e4b6132b854c6 response_code=200\n"
     ]
    }
   ],
   "source": [
    "result = await ragqna(kernel, \"shirts with sunblocking\",3)"
   ]
  },
  {
   "cell_type": "code",
   "execution_count": 26,
   "id": "0625f5e8",
   "metadata": {},
   "outputs": [
    {
     "data": {
      "text/plain": [
       "\"| Shirt Name | Sun Protection Rating | Fabric Composition | Additional Features |\\n| --- | --- | --- | --- |\\n| Sun Shield Shirt | UPF 50+ | 78% nylon, 22% Lycra Xtra Life fiber | Moisture-wicking, abrasion-resistant, fits over swimsuit |\\n| Men's Plaid Tropic Shirt | UPF 50+ | 52% polyester, 48% nylon | Wrinkle-free, front and back cape venting, two front bellows pockets |\\n| Women's Tropical Tee | UPF 50+ | Shell: 71% nylon, 29% polyester. Cape lining: 100% polyester | Wrinkle-resistant, low-profile pockets, front and back cape venting, two front pockets, tool tabs, eyewear loop |\\n\\nThe Sun Shield Shirt, Men's Plaid Tropic Shirt, and Women's Tropical Tee all offer UPF 50+ sun protection, blocking 98% of the sun's harmful rays. The Sun Shield Shirt is made of 78% nylon and 22% Lycra Xtra Life fiber, and is moisture-wicking and abrasion-resistant. The Men's Plaid Tropic Shirt is made of 52% polyester and 48% nylon\""
      ]
     },
     "execution_count": 26,
     "metadata": {},
     "output_type": "execute_result"
    }
   ],
   "source": [
    "str(result)\n"
   ]
  },
  {
   "cell_type": "code",
   "execution_count": 27,
   "id": "a573f58a",
   "metadata": {},
   "outputs": [
    {
     "data": {
      "text/markdown": [
       "| Shirt Name | Sun Protection Rating | Fabric Composition | Additional Features |\n",
       "| --- | --- | --- | --- |\n",
       "| Sun Shield Shirt | UPF 50+ | 78% nylon, 22% Lycra Xtra Life fiber | Moisture-wicking, abrasion-resistant, fits over swimsuit |\n",
       "| Men's Plaid Tropic Shirt | UPF 50+ | 52% polyester, 48% nylon | Wrinkle-free, front and back cape venting, two front bellows pockets |\n",
       "| Women's Tropical Tee | UPF 50+ | Shell: 71% nylon, 29% polyester. Cape lining: 100% polyester | Wrinkle-resistant, low-profile pockets, front and back cape venting, two front pockets, tool tabs, eyewear loop |\n",
       "\n",
       "The Sun Shield Shirt, Men's Plaid Tropic Shirt, and Women's Tropical Tee all offer UPF 50+ sun protection, blocking 98% of the sun's harmful rays. The Sun Shield Shirt is made of 78% nylon and 22% Lycra Xtra Life fiber, and is moisture-wicking and abrasion-resistant. The Men's Plaid Tropic Shirt is made of 52% polyester and 48% nylon"
      ],
      "text/plain": [
       "<IPython.core.display.Markdown object>"
      ]
     },
     "metadata": {},
     "output_type": "display_data"
    }
   ],
   "source": [
    "from IPython.display import display, Markdown\n",
    "display(Markdown(str(result)))"
   ]
  },
  {
   "cell_type": "code",
   "execution_count": null,
   "id": "21322e7e",
   "metadata": {},
   "outputs": [],
   "source": []
  }
 ],
 "metadata": {
  "kernelspec": {
   "display_name": "Python 3 (ipykernel)",
   "language": "python",
   "name": "python3"
  },
  "language_info": {
   "codemirror_mode": {
    "name": "ipython",
    "version": 3
   },
   "file_extension": ".py",
   "mimetype": "text/x-python",
   "name": "python",
   "nbconvert_exporter": "python",
   "pygments_lexer": "ipython3",
   "version": "3.9.16"
  }
 },
 "nbformat": 4,
 "nbformat_minor": 5
}
