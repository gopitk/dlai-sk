{
 "cells": [
  {
   "cell_type": "markdown",
   "id": "52824b89-532a-4e54-87e9-1410813cd39e",
   "metadata": {},
   "source": [
    "# SK: Q&A over Documents\n",
    "\n",
    "An example might be a tool that would allow you to query a product catalog for items of interest."
   ]
  },
  {
   "cell_type": "code",
   "execution_count": 1,
   "id": "10c1f7b9",
   "metadata": {},
   "outputs": [],
   "source": [
    "#pip install --upgrade semantic-kernel"
   ]
  },
  {
   "cell_type": "code",
   "execution_count": 1,
   "id": "b7ed03ed-1322-49e3-b2a2-33e94fb592ef",
   "metadata": {
    "tags": []
   },
   "outputs": [],
   "source": [
    "import os\n",
    "\n",
    "from dotenv import load_dotenv, find_dotenv\n",
    "_ = load_dotenv(find_dotenv()) # read local .env file"
   ]
  },
  {
   "cell_type": "code",
   "execution_count": 2,
   "id": "9a6ccfbd",
   "metadata": {},
   "outputs": [
    {
     "data": {
      "text/plain": [
       "<semantic_kernel.kernel.Kernel at 0x7fd18c06c940>"
      ]
     },
     "execution_count": 2,
     "metadata": {},
     "output_type": "execute_result"
    }
   ],
   "source": [
    "import semantic_kernel as sk\n",
    "import os\n",
    "import logging\n",
    "from semantic_kernel.connectors.ai.open_ai import OpenAIChatCompletion\n",
    "\n",
    "logging.basicConfig(level=logging.DEBUG)\n",
    "logger = logging.getLogger('__name__')\n",
    "kernel=sk.Kernel(log=logger)\n",
    "\n",
    "api_key = os.environ['OPENAI_API_KEY']\n",
    "kernel.add_chat_service(\n",
    "        \"chat-gpt\", OpenAIChatCompletion(\"gpt-3.5-turbo\", api_key)\n",
    ")"
   ]
  },
  {
   "cell_type": "code",
   "execution_count": 3,
   "id": "26340721",
   "metadata": {},
   "outputs": [
    {
     "data": {
      "text/plain": [
       "<semantic_kernel.kernel.Kernel at 0x7fd18c06c940>"
      ]
     },
     "execution_count": 3,
     "metadata": {},
     "output_type": "execute_result"
    }
   ],
   "source": [
    "from semantic_kernel.connectors.ai.open_ai import OpenAITextEmbedding\n",
    "kernel.add_text_embedding_generation_service(\n",
    "        \"ada\", OpenAITextEmbedding(\"text-embedding-ada-002\", api_key)\n",
    "    )"
   ]
  },
  {
   "cell_type": "code",
   "execution_count": 4,
   "id": "16a2779b",
   "metadata": {},
   "outputs": [
    {
     "name": "stderr",
     "output_type": "stream",
     "text": [
      "INFO:numexpr.utils:NumExpr defaulting to 8 threads.\n",
      "INFO:chromadb.telemetry.posthog:Anonymized telemetry enabled. See https://docs.trychroma.com/telemetry for more information.\n",
      "INFO:clickhouse_connect.driver.ctypes:Successfully imported ClickHouse Connect C data optimizations\n",
      "DEBUG:clickhouse_connect.driver.ctypes:Successfully import ClickHouse Connect C/Numpy optimizations\n",
      "INFO:clickhouse_connect.json_impl:Using orjson library for writing JSON byte strings\n",
      "INFO:chromadb.db.duckdb:loaded in 1000 embeddings\n",
      "INFO:chromadb.db.duckdb:loaded in 1 collections\n"
     ]
    }
   ],
   "source": [
    "from semantic_kernel.connectors.memory.chroma import ChromaMemoryStore\n",
    "kernel.register_memory_store(memory_store=ChromaMemoryStore(persist_directory=\"catalog\"))"
   ]
  },
  {
   "cell_type": "code",
   "execution_count": 5,
   "id": "6bd010b4",
   "metadata": {},
   "outputs": [
    {
     "name": "stderr",
     "output_type": "stream",
     "text": [
      "DEBUG:__name__:Importing skill _GLOBAL_FUNCTIONS_ into the global namespace\n",
      "DEBUG:__name__:Methods imported: 2\n"
     ]
    },
    {
     "data": {
      "text/plain": [
       "{'recall': <semantic_kernel.orchestration.sk_function.SKFunction at 0x7fd18c06c790>,\n",
       " 'save': <semantic_kernel.orchestration.sk_function.SKFunction at 0x7fd1426902e0>}"
      ]
     },
     "execution_count": 5,
     "metadata": {},
     "output_type": "execute_result"
    }
   ],
   "source": [
    "kernel.import_skill(sk.core_skills.TextMemorySkill())"
   ]
  },
  {
   "cell_type": "code",
   "execution_count": 6,
   "id": "e3988444",
   "metadata": {},
   "outputs": [],
   "source": [
    "query =\"Please suggest a shirt with sunblocking\""
   ]
  },
  {
   "cell_type": "code",
   "execution_count": 10,
   "id": "fd4a10a5",
   "metadata": {},
   "outputs": [
    {
     "name": "stderr",
     "output_type": "stream",
     "text": [
      "DEBUG:openai:message='Request to OpenAI API' method=post path=https://api.openai.com/v1/embeddings\n",
      "DEBUG:openai:api_version=None data='{\"model\": \"text-embedding-ada-002\", \"input\": [\"Please suggest a shirt with sunblocking\"], \"encoding_format\": \"base64\"}' message='Post details'\n",
      "INFO:openai:message='OpenAI API response' path=https://api.openai.com/v1/embeddings processing_ms=26 request_id=cc8657e00de013e25f168f2e091b6f60 response_code=200\n",
      "DEBUG:chromadb.db.index.hnswlib:time to pre process our knn query: 2.86102294921875e-06\n",
      "DEBUG:chromadb.db.index.hnswlib:time to run knn query: 0.0021409988403320312\n"
     ]
    }
   ],
   "source": [
    "docs = await kernel.memory.search_async(collection=\"outdoordb\", limit=5, min_relevance_score=0.3, query=query)"
   ]
  },
  {
   "cell_type": "code",
   "execution_count": 31,
   "id": "d13528f7",
   "metadata": {},
   "outputs": [],
   "source": [
    "async def ragqna(kernel, query, limit) -> str:\n",
    "    docs = await kernel.memory.search_async(collection=\"outdoordb\", limit=limit, min_relevance_score=0.3, query=query)\n",
    "    qdocs = \"\\n```\\n\".join([docs[i].text for i in range(len(docs))])\n",
    "    \n",
    "    prompt = \"\"\"{{ $qdocs}} \n",
    "    \n",
    "    Question: Please query above documents delimited by triple backticks for {{ $query }} \n",
    "    and return results in a table in markdown and summarize each one.\n",
    "    \"\"\"\n",
    "    \n",
    "    summarize = kernel.create_semantic_function(prompt, temperature=0.0)\n",
    "    context_variables = sk.ContextVariables(variables={\n",
    "        \"qdocs\": qdocs,\n",
    "        \"query\": query\n",
    "    })\n",
    "    response = summarize(variables=context_variables)\n",
    "    return response"
   ]
  },
  {
   "cell_type": "code",
   "execution_count": 34,
   "id": "c0c3596e",
   "metadata": {},
   "outputs": [
    {
     "name": "stderr",
     "output_type": "stream",
     "text": [
      "DEBUG:openai:message='Request to OpenAI API' method=post path=https://api.openai.com/v1/embeddings\n",
      "DEBUG:openai:api_version=None data='{\"model\": \"text-embedding-ada-002\", \"input\": [\"shirts with sunblocking\"], \"encoding_format\": \"base64\"}' message='Post details'\n",
      "INFO:openai:message='OpenAI API response' path=https://api.openai.com/v1/embeddings processing_ms=22 request_id=4ffa101475614083dfc45bedad6bacbf response_code=200\n",
      "DEBUG:chromadb.db.index.hnswlib:time to pre process our knn query: 2.384185791015625e-06\n",
      "DEBUG:chromadb.db.index.hnswlib:time to run knn query: 0.00035119056701660156\n",
      "DEBUG:__name__:Extracting blocks from template: {{ $qdocs}} \n",
      "    \n",
      "    Question: Please query above documents delimited by triple backticks for {{ $query }} \n",
      "    and return results in a table in markdown and summarize each one.\n",
      "    \n",
      "DEBUG:asyncio:Using selector: EpollSelector\n",
      "DEBUG:__name__:Rendering string template: {{ $qdocs}} \n",
      "    \n",
      "    Question: Please query above documents delimited by triple backticks for {{ $query }} \n",
      "    and return results in a table in markdown and summarize each one.\n",
      "    \n",
      "DEBUG:__name__:Extracting blocks from template: {{ $qdocs}} \n",
      "    \n",
      "    Question: Please query above documents delimited by triple backticks for {{ $query }} \n",
      "    and return results in a table in markdown and summarize each one.\n",
      "    \n",
      "DEBUG:__name__:Rendering list of 4 blocks\n",
      "DEBUG:__name__:Rendered prompt: Sun Shield Shirt by  :  \"Block the sun, not the fun – our high-performance sun shirt is guaranteed to protect from harmful UV rays. \n",
      "\n",
      "Size & Fit: Slightly Fitted: Softly shapes the body. Falls at hip.\n",
      "\n",
      "Fabric & Care: 78% nylon, 22% Lycra Xtra Life fiber. UPF 50+ rated – the highest rated sun protection possible. Handwash, line dry.\n",
      "\n",
      "Additional Features: Wicks moisture for quick-drying comfort. Fits comfortably over your favorite swimsuit. Abrasion resistant for season after season of wear. Imported.\n",
      "\n",
      "Sun Protection That Won't Wear Off\n",
      "Our high-performance fabric provides SPF 50+ sun protection, blocking 98% of the sun's harmful rays. This fabric is recommended by The Skin Cancer Foundation as an effective UV protectant.\n",
      "```\n",
      "Men's Plaid Tropic Shirt, Short-Sleeve :  Our Ultracomfortable sun protection is rated to UPF 50+, helping you stay cool and dry. Originally designed for fishing, this lightest hot-weather shirt offers UPF 50+ coverage and is great for extended travel. SunSmart technology blocks 98% of the sun's harmful UV rays, while the high-performance fabric is wrinkle-free and quickly evaporates perspiration. Made with 52% polyester and 48% nylon, this shirt is machine washable and dryable. Additional features include front and back cape venting, two front bellows pockets and an imported design. With UPF 50+ coverage, you can limit sun exposure and feel secure with the highest rated sun protection available.\n",
      "```\n",
      "Women's Tropical Tee, Sleeveless :  Our five-star sleeveless button-up shirt has a fit to flatter and SunSmart™ protection to block the sun’s harmful UV rays. Size & Fit: Slightly Fitted: Softly shapes the body. Falls at hip. Fabric & Care: Shell: 71% nylon, 29% polyester. Cape lining: 100% polyester. Built-in SunSmart™ UPF 50+ rated – the highest rated sun protection possible. Machine wash and dry. Additional Features: Updated design with smoother buttons. Wrinkle resistant. Low-profile pockets and side shaping offer a more flattering fit. Front and back cape venting. Two front pockets, tool tabs and eyewear loop. Imported. Sun Protection That Won't Wear Off: Our high-performance fabric provides SPF 50+ sun protection, blocking 98% of the sun's harmful rays.\n",
      "```\n",
      "Men's TropicVibe Shirt, Short-Sleeve :  This Men’s sun-protection shirt with built-in UPF 50+ has the lightweight feel you want and the coverage you need when the air is hot and the UV rays are strong. Size & Fit: Traditional Fit: Relaxed through the chest, sleeve and waist. Fabric & Care: Shell: 71% Nylon, 29% Polyester. Lining: 100% Polyester knit mesh. UPF 50+ rated – the highest rated sun protection possible. Machine wash and dry. Additional Features: Wrinkle resistant. Front and back cape venting lets in cool breezes. Two front bellows pockets. Imported.\n",
      "\n",
      "Sun Protection That Won't Wear Off: Our high-performance fabric provides SPF 50+ sun protection, blocking 98% of the sun's harmful rays.\n",
      "```\n",
      "Men's Tropical Plaid Short-Sleeve Shirt :  Our lightest hot-weather shirt is rated UPF 50+ for superior protection from the sun's UV rays. With a traditional fit that is relaxed through the chest, sleeve, and waist, this fabric is made of 100% polyester and is wrinkle-resistant. With front and back cape venting that lets in cool breezes and two front bellows pockets, this shirt is imported and provides the highest rated sun protection possible. \n",
      "\n",
      "Sun Protection That Won't Wear Off. Our high-performance fabric provides SPF 50+ sun protection, blocking 98% of the sun's harmful rays. \n",
      "    \n",
      "    Question: Please query above documents delimited by triple backticks for shirts with sunblocking \n",
      "    and return results in a table in markdown and summarize each one.\n",
      "    \n",
      "DEBUG:openai:message='Request to OpenAI API' method=post path=https://api.openai.com/v1/chat/completions\n",
      "DEBUG:openai:api_version=None data='{\"model\": \"gpt-3.5-turbo\", \"messages\": [{\"role\": \"user\", \"content\": \"Sun Shield Shirt by  :  \\\\\"Block the sun, not the fun \\\\u2013 our high-performance sun shirt is guaranteed to protect from harmful UV rays. \\\\n\\\\nSize & Fit: Slightly Fitted: Softly shapes the body. Falls at hip.\\\\n\\\\nFabric & Care: 78% nylon, 22% Lycra Xtra Life fiber. UPF 50+ rated \\\\u2013 the highest rated sun protection possible. Handwash, line dry.\\\\n\\\\nAdditional Features: Wicks moisture for quick-drying comfort. Fits comfortably over your favorite swimsuit. Abrasion resistant for season after season of wear. Imported.\\\\n\\\\nSun Protection That Won\\'t Wear Off\\\\nOur high-performance fabric provides SPF 50+ sun protection, blocking 98% of the sun\\'s harmful rays. This fabric is recommended by The Skin Cancer Foundation as an effective UV protectant.\\\\n```\\\\nMen\\'s Plaid Tropic Shirt, Short-Sleeve :  Our Ultracomfortable sun protection is rated to UPF 50+, helping you stay cool and dry. Originally designed for fishing, this lightest hot-weather shirt offers UPF 50+ coverage and is great for extended travel. SunSmart technology blocks 98% of the sun\\'s harmful UV rays, while the high-performance fabric is wrinkle-free and quickly evaporates perspiration. Made with 52% polyester and 48% nylon, this shirt is machine washable and dryable. Additional features include front and back cape venting, two front bellows pockets and an imported design. With UPF 50+ coverage, you can limit sun exposure and feel secure with the highest rated sun protection available.\\\\n```\\\\nWomen\\'s Tropical Tee, Sleeveless :  Our five-star sleeveless button-up shirt has a fit to flatter and SunSmart\\\\u2122 protection to block the sun\\\\u2019s harmful UV rays. Size & Fit: Slightly Fitted: Softly shapes the body. Falls at hip. Fabric & Care: Shell: 71% nylon, 29% polyester. Cape lining: 100% polyester. Built-in SunSmart\\\\u2122 UPF 50+ rated \\\\u2013 the highest rated sun protection possible. Machine wash and dry. Additional Features: Updated design with smoother buttons. Wrinkle resistant. Low-profile pockets and side shaping offer a more flattering fit. Front and back cape venting. Two front pockets, tool tabs and eyewear loop. Imported. Sun Protection That Won\\'t Wear Off: Our high-performance fabric provides SPF 50+ sun protection, blocking 98% of the sun\\'s harmful rays.\\\\n```\\\\nMen\\'s TropicVibe Shirt, Short-Sleeve :  This Men\\\\u2019s sun-protection shirt with built-in UPF 50+ has the lightweight feel you want and the coverage you need when the air is hot and the UV rays are strong. Size & Fit: Traditional Fit: Relaxed through the chest, sleeve and waist. Fabric & Care: Shell: 71% Nylon, 29% Polyester. Lining: 100% Polyester knit mesh. UPF 50+ rated \\\\u2013 the highest rated sun protection possible. Machine wash and dry. Additional Features: Wrinkle resistant. Front and back cape venting lets in cool breezes. Two front bellows pockets. Imported.\\\\n\\\\nSun Protection That Won\\'t Wear Off: Our high-performance fabric provides SPF 50+ sun protection, blocking 98% of the sun\\'s harmful rays.\\\\n```\\\\nMen\\'s Tropical Plaid Short-Sleeve Shirt :  Our lightest hot-weather shirt is rated UPF 50+ for superior protection from the sun\\'s UV rays. With a traditional fit that is relaxed through the chest, sleeve, and waist, this fabric is made of 100% polyester and is wrinkle-resistant. With front and back cape venting that lets in cool breezes and two front bellows pockets, this shirt is imported and provides the highest rated sun protection possible. \\\\n\\\\nSun Protection That Won\\'t Wear Off. Our high-performance fabric provides SPF 50+ sun protection, blocking 98% of the sun\\'s harmful rays. \\\\n    \\\\n    Question: Please query above documents delimited by triple backticks for shirts with sunblocking \\\\n    and return results in a table in markdown and summarize each one.\\\\n    \"}], \"temperature\": 0.0, \"top_p\": 1.0, \"presence_penalty\": 0.0, \"frequency_penalty\": 0.0, \"max_tokens\": 256, \"n\": 1, \"stream\": false}' message='Post details'\n"
     ]
    },
    {
     "name": "stderr",
     "output_type": "stream",
     "text": [
      "INFO:openai:message='OpenAI API response' path=https://api.openai.com/v1/chat/completions processing_ms=9592 request_id=43575a5dad8acb4f25ff41bfb3f48a73 response_code=200\n"
     ]
    }
   ],
   "source": [
    "result = await ragqna(kernel, \"shirts with sunblocking\",5)"
   ]
  },
  {
   "cell_type": "code",
   "execution_count": 40,
   "id": "0625f5e8",
   "metadata": {},
   "outputs": [
    {
     "data": {
      "text/plain": [
       "\"| Shirt Name | Sun Protection Rating | Fabric Composition | Additional Features |\\n| --- | --- | --- | --- |\\n| Sun Shield Shirt | UPF 50+ | 78% nylon, 22% Lycra Xtra Life fiber | Moisture-wicking, abrasion-resistant, fits over swimsuit |\\n| Men's Plaid Tropic Shirt | UPF 50+ | 52% polyester, 48% nylon | Wrinkle-free, front and back cape venting, two front bellows pockets |\\n| Women's Tropical Tee | UPF 50+ | Shell: 71% nylon, 29% polyester. Cape lining: 100% polyester | Wrinkle-resistant, low-profile pockets, front and back cape venting, two front pockets, tool tabs, eyewear loop |\\n| Men's TropicVibe Shirt | UPF 50+ | Shell: 71% Nylon, 29% Polyester. Lining: 100% Polyester knit mesh | Wrinkle-resistant, front and back cape venting, two front bellows pockets |\\n| Men's Tropical Plaid Short-Sleeve Shirt | UPF 50+ | 100% polyester | Wrinkle-resistant, front and back cape venting, two front bellows\""
      ]
     },
     "execution_count": 40,
     "metadata": {},
     "output_type": "execute_result"
    }
   ],
   "source": [
    "str(result)\n"
   ]
  },
  {
   "cell_type": "code",
   "execution_count": 42,
   "id": "a573f58a",
   "metadata": {},
   "outputs": [
    {
     "data": {
      "text/markdown": [
       "| Shirt Name | Sun Protection Rating | Fabric Composition | Additional Features |\n",
       "| --- | --- | --- | --- |\n",
       "| Sun Shield Shirt | UPF 50+ | 78% nylon, 22% Lycra Xtra Life fiber | Moisture-wicking, abrasion-resistant, fits over swimsuit |\n",
       "| Men's Plaid Tropic Shirt | UPF 50+ | 52% polyester, 48% nylon | Wrinkle-free, front and back cape venting, two front bellows pockets |\n",
       "| Women's Tropical Tee | UPF 50+ | Shell: 71% nylon, 29% polyester. Cape lining: 100% polyester | Wrinkle-resistant, low-profile pockets, front and back cape venting, two front pockets, tool tabs, eyewear loop |\n",
       "| Men's TropicVibe Shirt | UPF 50+ | Shell: 71% Nylon, 29% Polyester. Lining: 100% Polyester knit mesh | Wrinkle-resistant, front and back cape venting, two front bellows pockets |\n",
       "| Men's Tropical Plaid Short-Sleeve Shirt | UPF 50+ | 100% polyester | Wrinkle-resistant, front and back cape venting, two front bellows"
      ],
      "text/plain": [
       "<IPython.core.display.Markdown object>"
      ]
     },
     "metadata": {},
     "output_type": "display_data"
    }
   ],
   "source": [
    "from IPython.display import display, Markdown\n",
    "display(Markdown(str(result)))"
   ]
  },
  {
   "cell_type": "code",
   "execution_count": null,
   "id": "21322e7e",
   "metadata": {},
   "outputs": [],
   "source": []
  }
 ],
 "metadata": {
  "kernelspec": {
   "display_name": "Python 3 (ipykernel)",
   "language": "python",
   "name": "python3"
  },
  "language_info": {
   "codemirror_mode": {
    "name": "ipython",
    "version": 3
   },
   "file_extension": ".py",
   "mimetype": "text/x-python",
   "name": "python",
   "nbconvert_exporter": "python",
   "pygments_lexer": "ipython3",
   "version": "3.9.16"
  }
 },
 "nbformat": 4,
 "nbformat_minor": 5
}
