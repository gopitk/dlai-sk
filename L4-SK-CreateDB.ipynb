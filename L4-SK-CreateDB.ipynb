{
 "cells": [
  {
   "cell_type": "markdown",
   "id": "2b02a10e",
   "metadata": {},
   "source": [
    "### Demonstrate ingesting a CSV file into a Chroma Vector database"
   ]
  },
  {
   "cell_type": "code",
   "execution_count": 1,
   "id": "c16c9da8",
   "metadata": {},
   "outputs": [],
   "source": [
    "import os\n",
    "\n",
    "from dotenv import load_dotenv, find_dotenv\n",
    "_ = load_dotenv(find_dotenv()) # read local .env file\n",
    "\n",
    "import warnings\n",
    "warnings.filterwarnings('ignore')"
   ]
  },
  {
   "cell_type": "code",
   "execution_count": 2,
   "id": "62bac2ac",
   "metadata": {},
   "outputs": [],
   "source": [
    "import semantic_kernel as sk\n",
    "import os\n",
    "from semantic_kernel.connectors.ai.open_ai import OpenAIChatCompletion\n",
    "\n",
    "kernel=sk.Kernel()\n",
    "api_key = os.environ['OPENAI_API_KEY']\n",
    "   "
   ]
  },
  {
   "cell_type": "code",
   "execution_count": 3,
   "id": "8f3119e7",
   "metadata": {},
   "outputs": [],
   "source": [
    "# Read the CSV file using pandas\n",
    "import pandas as pd\n",
    "df = pd.read_csv('OutdoorClothingCatalog_1000.csv')"
   ]
  },
  {
   "cell_type": "code",
   "execution_count": 4,
   "id": "01f2b31d",
   "metadata": {},
   "outputs": [
    {
     "data": {
      "text/plain": [
       "<semantic_kernel.kernel.Kernel at 0x7f65e84f7c70>"
      ]
     },
     "execution_count": 4,
     "metadata": {},
     "output_type": "execute_result"
    }
   ],
   "source": [
    "#Specify the model used for embedding. Here we use the OpenAI Ada embedding model\n",
    "from semantic_kernel.connectors.ai.open_ai import OpenAITextEmbedding\n",
    "kernel.add_text_embedding_generation_service(\n",
    "        \"ada\", OpenAITextEmbedding(\"text-embedding-ada-002\", api_key)\n",
    "    )"
   ]
  },
  {
   "cell_type": "code",
   "execution_count": 5,
   "id": "9e35ba96",
   "metadata": {},
   "outputs": [],
   "source": [
    "# Specify the type of memory to attach to SK. Here we will use Chroma as it is easy to run it locally\n",
    "# You can specify location of Chroma DB files. The DB will be stored in \"catalog\" directory under current dir\n",
    "from semantic_kernel.connectors.memory.chroma import ChromaMemoryStore\n",
    "kernel.register_memory_store(memory_store=ChromaMemoryStore(persist_directory='catalog'))"
   ]
  },
  {
   "cell_type": "code",
   "execution_count": 6,
   "id": "3786665a",
   "metadata": {},
   "outputs": [],
   "source": [
    "# Iterate thru the pandas dataframe and embed each row and save into memory (Chroma)\n",
    "async def populate_db(kernel: sk.Kernel, df) -> None:\n",
    "    # Add some documents to the semantic memory using save_information_async\n",
    "    for index, row in df.iterrows():\n",
    "        x= row[\"name\"] + \" :  \" + row[\"description\"]\n",
    "        await kernel.memory.save_information_async(\n",
    "        \"outdoordb\", id=str(index), text=x\n",
    "    )"
   ]
  },
  {
   "cell_type": "code",
   "execution_count": 7,
   "id": "569bc8bb",
   "metadata": {},
   "outputs": [],
   "source": [
    "# This may take some time as we call OpenAI embedding API for each row\n",
    "await populate_db(kernel,df)"
   ]
  },
  {
   "cell_type": "code",
   "execution_count": 12,
   "id": "08f0bca5",
   "metadata": {},
   "outputs": [],
   "source": [
    "query =\"Please suggest a shirt with sunblocking\""
   ]
  },
  {
   "cell_type": "code",
   "execution_count": 13,
   "id": "a05acf5e",
   "metadata": {},
   "outputs": [],
   "source": [
    "# Now query the memory for most relevant match using search_async specifying relevance score and \"limit\" of number of closest documents\n",
    "query_result1 = await kernel.memory.search_async(collection=\"outdoordb\", limit=1, min_relevance_score=0.3, query=query)"
   ]
  },
  {
   "cell_type": "code",
   "execution_count": 14,
   "id": "e75ab8e2",
   "metadata": {},
   "outputs": [
    {
     "data": {
      "text/plain": [
       "1"
      ]
     },
     "execution_count": 14,
     "metadata": {},
     "output_type": "execute_result"
    }
   ],
   "source": [
    "len(query_result1)"
   ]
  },
  {
   "cell_type": "code",
   "execution_count": 15,
   "id": "135c83b2",
   "metadata": {},
   "outputs": [
    {
     "data": {
      "text/plain": [
       "'Sun Shield Shirt by  :  \"Block the sun, not the fun – our high-performance sun shirt is guaranteed to protect from harmful UV rays. \\n\\nSize & Fit: Slightly Fitted: Softly shapes the body. Falls at hip.\\n\\nFabric & Care: 78% nylon, 22% Lycra Xtra Life fiber. UPF 50+ rated – the highest rated sun protection possible. Handwash, line dry.\\n\\nAdditional Features: Wicks moisture for quick-drying comfort. Fits comfortably over your favorite swimsuit. Abrasion resistant for season after season of wear. Imported.\\n\\nSun Protection That Won\\'t Wear Off\\nOur high-performance fabric provides SPF 50+ sun protection, blocking 98% of the sun\\'s harmful rays. This fabric is recommended by The Skin Cancer Foundation as an effective UV protectant.'"
      ]
     },
     "execution_count": 15,
     "metadata": {},
     "output_type": "execute_result"
    }
   ],
   "source": [
    "query_result1[0].text"
   ]
  },
  {
   "cell_type": "code",
   "execution_count": null,
   "id": "49f69e2f",
   "metadata": {},
   "outputs": [],
   "source": []
  }
 ],
 "metadata": {
  "kernelspec": {
   "display_name": "Python 3 (ipykernel)",
   "language": "python",
   "name": "python3"
  },
  "language_info": {
   "codemirror_mode": {
    "name": "ipython",
    "version": 3
   },
   "file_extension": ".py",
   "mimetype": "text/x-python",
   "name": "python",
   "nbconvert_exporter": "python",
   "pygments_lexer": "ipython3",
   "version": "3.9.16"
  }
 },
 "nbformat": 4,
 "nbformat_minor": 5
}
