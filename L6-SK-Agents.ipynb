{
 "cells": [
  {
   "cell_type": "markdown",
   "id": "52824b89-532a-4e54-87e9-1410813cd39e",
   "metadata": {},
   "source": [
    "# SK: Agents using Planner\n",
    "\n",
    "## Outline:\n",
    "\n",
    "* Using built in SK Skills: HttpSkill, TimeSkill and MathSkill\n",
    "* Defining your own tools"
   ]
  },
  {
   "cell_type": "code",
   "execution_count": 1,
   "id": "b7ed03ed-1322-49e3-b2a2-33e94fb592ef",
   "metadata": {
    "tags": []
   },
   "outputs": [],
   "source": [
    "import os\n",
    "\n",
    "from dotenv import load_dotenv, find_dotenv\n",
    "_ = load_dotenv(find_dotenv()) # read local .env file\n",
    "\n",
    "import warnings\n",
    "warnings.filterwarnings(\"ignore\")"
   ]
  },
  {
   "cell_type": "code",
   "execution_count": 2,
   "id": "c74802dd",
   "metadata": {},
   "outputs": [
    {
     "data": {
      "text/plain": [
       "<semantic_kernel.kernel.Kernel at 0x7f7b806b2e20>"
      ]
     },
     "execution_count": 2,
     "metadata": {},
     "output_type": "execute_result"
    }
   ],
   "source": [
    "import semantic_kernel as sk\n",
    "import os\n",
    "import logging\n",
    "from semantic_kernel.connectors.ai.open_ai import OpenAIChatCompletion\n",
    "\n",
    "logging.basicConfig(level=logging.INFO)\n",
    "logger = logging.getLogger('__name__')\n",
    "kernel=sk.Kernel(log=logger)\n",
    "\n",
    "api_key = os.environ['OPENAI_API_KEY']\n",
    "kernel.add_chat_service(\n",
    "        \"chat-gpt\", OpenAIChatCompletion(\"gpt-3.5-turbo\", api_key)\n",
    ")"
   ]
  },
  {
   "cell_type": "markdown",
   "id": "0e3b9ad2",
   "metadata": {},
   "source": [
    "## Built-in SK tools"
   ]
  },
  {
   "cell_type": "code",
   "execution_count": 3,
   "id": "394924ac",
   "metadata": {
    "tags": []
   },
   "outputs": [
    {
     "data": {
      "text/plain": [
       "{'deleteAsync': <semantic_kernel.orchestration.sk_function.SKFunction at 0x7f7b43462c10>,\n",
       " 'getAsync': <semantic_kernel.orchestration.sk_function.SKFunction at 0x7f7b43462d00>,\n",
       " 'postAsync': <semantic_kernel.orchestration.sk_function.SKFunction at 0x7f7b43462e50>,\n",
       " 'putAsync': <semantic_kernel.orchestration.sk_function.SKFunction at 0x7f7b43462fa0>}"
      ]
     },
     "execution_count": 3,
     "metadata": {},
     "output_type": "execute_result"
    }
   ],
   "source": [
    "kernel.import_skill(sk.core_skills.MathSkill(), \"MathSkill\")\n",
    "kernel.import_skill(sk.core_skills.TimeSkill(), \"TimeSkill\")\n",
    "kernel.import_skill(sk.core_skills.HttpSkill(), \"HttpSkill\")"
   ]
  },
  {
   "cell_type": "code",
   "execution_count": 4,
   "id": "02cd4956",
   "metadata": {
    "tags": []
   },
   "outputs": [],
   "source": [
    "from semantic_kernel.planning.basic_planner import BasicPlanner\n",
    "planner = BasicPlanner()"
   ]
  },
  {
   "cell_type": "code",
   "execution_count": 5,
   "id": "44601fe4-5f24-4ff2-a5df-a7e194a5b4f8",
   "metadata": {},
   "outputs": [],
   "source": [
    "ask = \"What is the sum of 2319 and 86988?\""
   ]
  },
  {
   "cell_type": "code",
   "execution_count": 6,
   "id": "e45c1c9e",
   "metadata": {},
   "outputs": [
    {
     "name": "stderr",
     "output_type": "stream",
     "text": [
      "INFO:openai:message='OpenAI API response' path=https://api.openai.com/v1/chat/completions processing_ms=1891 request_id=a7d21c4447b27c6a2721560febb6d060 response_code=200\n"
     ]
    }
   ],
   "source": [
    "original_plan = await planner.create_plan_async(ask, kernel)"
   ]
  },
  {
   "cell_type": "code",
   "execution_count": 7,
   "id": "0c4cd19e",
   "metadata": {},
   "outputs": [
    {
     "name": "stdout",
     "output_type": "stream",
     "text": [
      "{\n",
      "    \"input\": \"\",\n",
      "    \"subtasks\": [\n",
      "        {\"function\": \"MathSkill.Add\", \"args\": {\"input\": 2319, \"Amount\": 86988}}\n",
      "    ]\n",
      "}\n"
     ]
    }
   ],
   "source": [
    "print(original_plan.generated_plan)"
   ]
  },
  {
   "cell_type": "code",
   "execution_count": 8,
   "id": "45a460db",
   "metadata": {},
   "outputs": [
    {
     "name": "stdout",
     "output_type": "stream",
     "text": [
      "89307\n"
     ]
    }
   ],
   "source": [
    "results = await planner.execute_plan_async(original_plan, kernel)\n",
    "print(results)"
   ]
  },
  {
   "cell_type": "code",
   "execution_count": 9,
   "id": "9e1796db",
   "metadata": {},
   "outputs": [
    {
     "name": "stderr",
     "output_type": "stream",
     "text": [
      "INFO:openai:message='OpenAI API response' path=https://api.openai.com/v1/chat/completions processing_ms=1605 request_id=587a552498f6d6e0526d6ec2ebc2d222 response_code=200\n"
     ]
    },
    {
     "name": "stdout",
     "output_type": "stream",
     "text": [
      "{\n",
      "    \"input\": \"whats the date today?\",\n",
      "    \"subtasks\": [\n",
      "        {\"function\": \"TimeSkill.today\"}\n",
      "    ]\n",
      "}\n",
      "Sunday, 18 June, 2023\n"
     ]
    }
   ],
   "source": [
    "ask=\"whats the date today?\"\n",
    "plan2 = await planner.create_plan_async(ask, kernel)\n",
    "print(plan2.generated_plan)\n",
    "result2= await planner.execute_plan_async(plan2, kernel)\n",
    "print(result2)"
   ]
  },
  {
   "cell_type": "code",
   "execution_count": 10,
   "id": "441df699-0a52-4812-a0a7-4605204f0aa8",
   "metadata": {},
   "outputs": [
    {
     "name": "stderr",
     "output_type": "stream",
     "text": [
      "INFO:openai:message='OpenAI API response' path=https://api.openai.com/v1/chat/completions processing_ms=4198 request_id=a932aef5f1fe3730e8762add28a5e3ed response_code=200\n"
     ]
    },
    {
     "name": "stdout",
     "output_type": "stream",
     "text": [
      "{\n",
      "    \"input\": \"Tom M. Mitchell, American computer scientist and Founders University Professor at CMU\",\n",
      "    \"subtasks\": [\n",
      "        {\"function\": \"HttpSkill.getAsync\", \"args\": {\"input\": \"https://www.googleapis.com/books/v1/volumes?q=\" + \"Tom M. Mitchell is an American computer scientist and the Founders University Professor at Carnegie Mellon University\"}},\n",
      "        {\"function\": \"WriterSkill.TwoSentenceSummary\"}\n",
      "    ]\n",
      "}\n"
     ]
    }
   ],
   "source": [
    "# Plans generated are not always accurate. Here is an example\n",
    "ask = \"What book did Tom M. Mitchell is an American computer scientist \\\n",
    "and the Founders University Professor at Carnegie Mellon University (CMU) write?\"\n",
    "\n",
    "# IMPORTANT: Copy the skills/WriterSkill directory from https://github.com/microsoft/semantic-kerne into current directory\n",
    "skills_directory = \"skills\"\n",
    "writer_skill = kernel.import_semantic_skill_from_directory(skills_directory, \"WriterSkill\")\n",
    "\n",
    "plan3 = await planner.create_plan_async(ask, kernel)\n",
    "print(plan3.generated_plan)\n",
    " "
   ]
  },
  {
   "cell_type": "code",
   "execution_count": 33,
   "id": "f1ca59e3",
   "metadata": {},
   "outputs": [
    {
     "name": "stderr",
     "output_type": "stream",
     "text": [
      "DEBUG:__name__:Rendering string template: Rewrite the given text like it was written in this style or by: {{$style}}. \n",
      "MUST RETAIN THE MEANING AND FACTUAL CONTENT AS THE ORIGINAL.\n",
      "\n",
      "\n",
      "{{$input}}\n",
      "\n",
      "\n",
      "DEBUG:__name__:Extracting blocks from template: Rewrite the given text like it was written in this style or by: {{$style}}. \n",
      "MUST RETAIN THE MEANING AND FACTUAL CONTENT AS THE ORIGINAL.\n",
      "\n",
      "\n",
      "{{$input}}\n",
      "\n",
      "\n",
      "DEBUG:__name__:Rendering list of 5 blocks\n",
      "DEBUG:__name__:Rendered prompt: Rewrite the given text like it was written in this style or by: compact. \n",
      "MUST RETAIN THE MEANING AND FACTUAL CONTENT AS THE ORIGINAL.\n",
      "\n",
      "\n",
      "$HttpSkill.getAsync\n",
      "\n",
      "\n",
      "DEBUG:openai:message='Request to OpenAI API' method=post path=https://api.openai.com/v1/chat/completions\n",
      "DEBUG:openai:api_version=None data='{\"model\": \"gpt-3.5-turbo\", \"messages\": [{\"role\": \"user\", \"content\": \"Rewrite the given text like it was written in this style or by: compact. \\\\nMUST RETAIN THE MEANING AND FACTUAL CONTENT AS THE ORIGINAL.\\\\n\\\\n\\\\n$HttpSkill.getAsync\\\\n\\\\n\"}], \"temperature\": 0.0, \"top_p\": 0.0, \"presence_penalty\": 0.0, \"frequency_penalty\": 0.0, \"max_tokens\": 256, \"n\": null, \"stream\": false}' message='Post details'\n",
      "INFO:openai:message='OpenAI API response' path=https://api.openai.com/v1/chat/completions processing_ms=573 request_id=efd114e908d19595bb89360f9a4b58dc response_code=200\n",
      "DEBUG:__name__:Rendering string template: # acronym: Devis\n",
      "Sentences matching the acronym:\n",
      "1. Dragons Eat Very Interesting Snacks\n",
      "2. Develop Empathy and Vision to Increase Success\n",
      "3. Don't Expect Vampires In Supermarkets\n",
      "#END#\n",
      "\n",
      "# acronym: Christmas\n",
      "Sentences matching the acronym:\n",
      "1. Celebrating Harmony and Respect in a Season of Togetherness, Merriment, and True joy\n",
      "2. Children Have Real Interest Since The Mystery And Surprise Thrills\n",
      "3. Christmas Helps Reduce Inner Stress Through Mistletoe And Sleigh excursions\n",
      "#END#\n",
      "\n",
      "# acronym: noWare\n",
      "Sentences matching the acronym:\n",
      "1. No One Wants an App that Randomly Erases everything\n",
      "2. Nourishing Oatmeal With Almond, Raisin, and Egg toppings\n",
      "3. Notice Opportunity When Available and React Enthusiastically\n",
      "#END#\n",
      "\n",
      "Reverse the following acronym back to a funny sentence. Provide 3 examples.\n",
      "# acronym: {{$INPUT}}\n",
      "Sentences matching the acronym:\n",
      "\n",
      "DEBUG:__name__:Extracting blocks from template: # acronym: Devis\n",
      "Sentences matching the acronym:\n",
      "1. Dragons Eat Very Interesting Snacks\n",
      "2. Develop Empathy and Vision to Increase Success\n",
      "3. Don't Expect Vampires In Supermarkets\n",
      "#END#\n",
      "\n",
      "# acronym: Christmas\n",
      "Sentences matching the acronym:\n",
      "1. Celebrating Harmony and Respect in a Season of Togetherness, Merriment, and True joy\n",
      "2. Children Have Real Interest Since The Mystery And Surprise Thrills\n",
      "3. Christmas Helps Reduce Inner Stress Through Mistletoe And Sleigh excursions\n",
      "#END#\n",
      "\n",
      "# acronym: noWare\n",
      "Sentences matching the acronym:\n",
      "1. No One Wants an App that Randomly Erases everything\n",
      "2. Nourishing Oatmeal With Almond, Raisin, and Egg toppings\n",
      "3. Notice Opportunity When Available and React Enthusiastically\n",
      "#END#\n",
      "\n",
      "Reverse the following acronym back to a funny sentence. Provide 3 examples.\n",
      "# acronym: {{$INPUT}}\n",
      "Sentences matching the acronym:\n",
      "\n",
      "DEBUG:__name__:Rendering list of 3 blocks\n",
      "DEBUG:__name__:Rendered prompt: # acronym: Devis\n",
      "Sentences matching the acronym:\n",
      "1. Dragons Eat Very Interesting Snacks\n",
      "2. Develop Empathy and Vision to Increase Success\n",
      "3. Don't Expect Vampires In Supermarkets\n",
      "#END#\n",
      "\n",
      "# acronym: Christmas\n",
      "Sentences matching the acronym:\n",
      "1. Celebrating Harmony and Respect in a Season of Togetherness, Merriment, and True joy\n",
      "2. Children Have Real Interest Since The Mystery And Surprise Thrills\n",
      "3. Christmas Helps Reduce Inner Stress Through Mistletoe And Sleigh excursions\n",
      "#END#\n",
      "\n",
      "# acronym: noWare\n",
      "Sentences matching the acronym:\n",
      "1. No One Wants an App that Randomly Erases everything\n",
      "2. Nourishing Oatmeal With Almond, Raisin, and Egg toppings\n",
      "3. Notice Opportunity When Available and React Enthusiastically\n",
      "#END#\n",
      "\n",
      "Reverse the following acronym back to a funny sentence. Provide 3 examples.\n",
      "# acronym: $WriterSkill.Rewrite\n",
      "Sentences matching the acronym:\n",
      "\n",
      "DEBUG:openai:message='Request to OpenAI API' method=post path=https://api.openai.com/v1/chat/completions\n",
      "DEBUG:openai:api_version=None data='{\"model\": \"gpt-3.5-turbo\", \"messages\": [{\"role\": \"user\", \"content\": \"# acronym: Devis\\\\nSentences matching the acronym:\\\\n1. Dragons Eat Very Interesting Snacks\\\\n2. Develop Empathy and Vision to Increase Success\\\\n3. Don\\'t Expect Vampires In Supermarkets\\\\n#END#\\\\n\\\\n# acronym: Christmas\\\\nSentences matching the acronym:\\\\n1. Celebrating Harmony and Respect in a Season of Togetherness, Merriment, and True joy\\\\n2. Children Have Real Interest Since The Mystery And Surprise Thrills\\\\n3. Christmas Helps Reduce Inner Stress Through Mistletoe And Sleigh excursions\\\\n#END#\\\\n\\\\n# acronym: noWare\\\\nSentences matching the acronym:\\\\n1. No One Wants an App that Randomly Erases everything\\\\n2. Nourishing Oatmeal With Almond, Raisin, and Egg toppings\\\\n3. Notice Opportunity When Available and React Enthusiastically\\\\n#END#\\\\n\\\\nReverse the following acronym back to a funny sentence. Provide 3 examples.\\\\n# acronym: $WriterSkill.Rewrite\\\\nSentences matching the acronym:\\\\n\"}], \"temperature\": 0.5, \"top_p\": 1.0, \"presence_penalty\": 0.8, \"frequency_penalty\": 0.0, \"max_tokens\": 256, \"n\": null, \"stream\": false}' message='Post details'\n",
      "INFO:openai:message='OpenAI API response' path=https://api.openai.com/v1/chat/completions processing_ms=1895 request_id=da556dfd98ccdd447090c7f4a7ae5497 response_code=200\n",
      "DEBUG:__name__:Rendering string template: Rewrite my bullet points into an email featuring complete sentences. Use a polite and inclusive tone.  \n",
      "\n",
      "[Input]\n",
      "Toby,\n",
      "\n",
      "- Macbeth, King Scotland\n",
      "- Married, Wife Lady Macbeth, No Kids\n",
      "- Dog Toby McDuff. Hunter, dead. \n",
      "- Shakespeare play\n",
      "\n",
      "Thanks,\n",
      "Dexter\n",
      "\n",
      "+++++\n",
      "Hi Toby,\n",
      "\n",
      "The story of Macbeth\n",
      "My name is Macbeth. I used to be King of Scotland, but I died. My wife's name is Lady Macbeth and we were married for 15 years. We had no children. Our beloved dog Toby McDuff was a famous hunter of rats in the forest.\n",
      "My story was immortalized by Shakespeare in a play.\n",
      "\n",
      "Thanks,\n",
      "Dexter\n",
      "\n",
      "+++++\n",
      "[Input]\n",
      "{{$to}}\n",
      "{{$input}}\n",
      "\n",
      "Thanks,\n",
      "{{$sender}}\n",
      "+++++\n",
      "\n",
      "DEBUG:__name__:Extracting blocks from template: Rewrite my bullet points into an email featuring complete sentences. Use a polite and inclusive tone.  \n",
      "\n",
      "[Input]\n",
      "Toby,\n",
      "\n",
      "- Macbeth, King Scotland\n",
      "- Married, Wife Lady Macbeth, No Kids\n",
      "- Dog Toby McDuff. Hunter, dead. \n",
      "- Shakespeare play\n",
      "\n",
      "Thanks,\n",
      "Dexter\n",
      "\n",
      "+++++\n",
      "Hi Toby,\n",
      "\n",
      "The story of Macbeth\n",
      "My name is Macbeth. I used to be King of Scotland, but I died. My wife's name is Lady Macbeth and we were married for 15 years. We had no children. Our beloved dog Toby McDuff was a famous hunter of rats in the forest.\n",
      "My story was immortalized by Shakespeare in a play.\n",
      "\n",
      "Thanks,\n",
      "Dexter\n",
      "\n",
      "+++++\n",
      "[Input]\n",
      "{{$to}}\n",
      "{{$input}}\n",
      "\n",
      "Thanks,\n",
      "{{$sender}}\n",
      "+++++\n",
      "\n",
      "DEBUG:__name__:Rendering list of 7 blocks\n",
      "WARNING:__name__:Variable `$sender` not found\n",
      "DEBUG:__name__:Rendered prompt: Rewrite my bullet points into an email featuring complete sentences. Use a polite and inclusive tone.  \n",
      "\n",
      "[Input]\n",
      "Toby,\n",
      "\n",
      "- Macbeth, King Scotland\n",
      "- Married, Wife Lady Macbeth, No Kids\n",
      "- Dog Toby McDuff. Hunter, dead. \n",
      "- Shakespeare play\n",
      "\n",
      "Thanks,\n",
      "Dexter\n",
      "\n",
      "+++++\n",
      "Hi Toby,\n",
      "\n",
      "The story of Macbeth\n",
      "My name is Macbeth. I used to be King of Scotland, but I died. My wife's name is Lady Macbeth and we were married for 15 years. We had no children. Our beloved dog Toby McDuff was a famous hunter of rats in the forest.\n",
      "My story was immortalized by Shakespeare in a play.\n",
      "\n",
      "Thanks,\n",
      "Dexter\n",
      "\n",
      "+++++\n",
      "[Input]\n",
      "Tom M. Mitchell\n",
      "$WriterSkill.AcronymReverse\n",
      "\n",
      "Thanks,\n",
      "\n",
      "+++++\n",
      "\n",
      "DEBUG:openai:message='Request to OpenAI API' method=post path=https://api.openai.com/v1/chat/completions\n",
      "DEBUG:openai:api_version=None data='{\"model\": \"gpt-3.5-turbo\", \"messages\": [{\"role\": \"user\", \"content\": \"Rewrite my bullet points into an email featuring complete sentences. Use a polite and inclusive tone.  \\\\n\\\\n[Input]\\\\nToby,\\\\n\\\\n- Macbeth, King Scotland\\\\n- Married, Wife Lady Macbeth, No Kids\\\\n- Dog Toby McDuff. Hunter, dead. \\\\n- Shakespeare play\\\\n\\\\nThanks,\\\\nDexter\\\\n\\\\n+++++\\\\nHi Toby,\\\\n\\\\nThe story of Macbeth\\\\nMy name is Macbeth. I used to be King of Scotland, but I died. My wife\\'s name is Lady Macbeth and we were married for 15 years. We had no children. Our beloved dog Toby McDuff was a famous hunter of rats in the forest.\\\\nMy story was immortalized by Shakespeare in a play.\\\\n\\\\nThanks,\\\\nDexter\\\\n\\\\n+++++\\\\n[Input]\\\\nTom M. Mitchell\\\\n$WriterSkill.AcronymReverse\\\\n\\\\nThanks,\\\\n\\\\n+++++\\\\n\"}], \"temperature\": 0.0, \"top_p\": 0.0, \"presence_penalty\": 0.0, \"frequency_penalty\": 0.0, \"max_tokens\": 256, \"n\": null, \"stream\": false}' message='Post details'\n"
     ]
    },
    {
     "name": "stderr",
     "output_type": "stream",
     "text": [
      "INFO:openai:message='OpenAI API response' path=https://api.openai.com/v1/chat/completions processing_ms=2374 request_id=d93d151df84b25d4f517e2af49c0afa6 response_code=200\n"
     ]
    },
    {
     "name": "stdout",
     "output_type": "stream",
     "text": [
      "Hi Tom,\n",
      "\n",
      "I wanted to reach out and express my admiration for your incredible skills as a writer. Your ability to craft engaging and thought-provoking pieces is truly impressive.\n",
      "\n",
      "Thank you for sharing your talents with the world.\n",
      "\n",
      "Best regards,\n",
      "\n",
      "[Your Name]\n"
     ]
    }
   ],
   "source": [
    "result3= await planner.execute_plan_async(plan3, kernel)\n",
    "print(result3)"
   ]
  },
  {
   "cell_type": "markdown",
   "id": "2d2a4685",
   "metadata": {},
   "source": [
    "## Define your own tool"
   ]
  },
  {
   "cell_type": "code",
   "execution_count": null,
   "id": "ac295066",
   "metadata": {},
   "outputs": [],
   "source": [
    "# TODO"
   ]
  }
 ],
 "metadata": {
  "kernelspec": {
   "display_name": "Python 3 (ipykernel)",
   "language": "python",
   "name": "python3"
  },
  "language_info": {
   "codemirror_mode": {
    "name": "ipython",
    "version": 3
   },
   "file_extension": ".py",
   "mimetype": "text/x-python",
   "name": "python",
   "nbconvert_exporter": "python",
   "pygments_lexer": "ipython3",
   "version": "3.9.16"
  }
 },
 "nbformat": 4,
 "nbformat_minor": 5
}
