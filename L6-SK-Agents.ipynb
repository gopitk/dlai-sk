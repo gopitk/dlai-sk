{
 "cells": [
  {
   "cell_type": "markdown",
   "id": "52824b89-532a-4e54-87e9-1410813cd39e",
   "metadata": {},
   "source": [
    "# SK: Agents using Planner\n",
    "\n",
    "## Outline:\n",
    "\n",
    "* Using built in SK Skills: HttpSkill, TimeSkill and MathSkill\n",
    "* Defining your own tools"
   ]
  },
  {
   "cell_type": "code",
   "execution_count": 1,
   "id": "b7ed03ed-1322-49e3-b2a2-33e94fb592ef",
   "metadata": {
    "tags": []
   },
   "outputs": [],
   "source": [
    "import os\n",
    "\n",
    "from dotenv import load_dotenv, find_dotenv\n",
    "_ = load_dotenv(find_dotenv()) # read local .env file\n",
    "\n",
    "import warnings\n",
    "warnings.filterwarnings(\"ignore\")"
   ]
  },
  {
   "cell_type": "code",
   "execution_count": 2,
   "id": "c74802dd",
   "metadata": {},
   "outputs": [
    {
     "data": {
      "text/plain": [
       "<semantic_kernel.kernel.Kernel at 0x7f65e813f5b0>"
      ]
     },
     "execution_count": 2,
     "metadata": {},
     "output_type": "execute_result"
    }
   ],
   "source": [
    "import semantic_kernel as sk\n",
    "import os\n",
    "import logging\n",
    "from semantic_kernel.connectors.ai.open_ai import OpenAIChatCompletion\n",
    "\n",
    "logging.basicConfig(level=logging.INFO)\n",
    "logger = logging.getLogger('__name__')\n",
    "kernel=sk.Kernel(log=logger)\n",
    "\n",
    "api_key = os.environ['OPENAI_API_KEY']\n",
    "kernel.add_chat_service(\n",
    "        \"chat-gpt\", OpenAIChatCompletion(\"gpt-3.5-turbo\", api_key)\n",
    ")"
   ]
  },
  {
   "cell_type": "markdown",
   "id": "0e3b9ad2",
   "metadata": {},
   "source": [
    "## Built-in SK tools"
   ]
  },
  {
   "cell_type": "code",
   "execution_count": 3,
   "id": "394924ac",
   "metadata": {
    "tags": []
   },
   "outputs": [
    {
     "data": {
      "text/plain": [
       "{'deleteAsync': <semantic_kernel.orchestration.sk_function.SKFunction at 0x7f65aceeadf0>,\n",
       " 'getAsync': <semantic_kernel.orchestration.sk_function.SKFunction at 0x7f65aceeaee0>,\n",
       " 'postAsync': <semantic_kernel.orchestration.sk_function.SKFunction at 0x7f65aceee070>,\n",
       " 'putAsync': <semantic_kernel.orchestration.sk_function.SKFunction at 0x7f65aceee1c0>}"
      ]
     },
     "execution_count": 3,
     "metadata": {},
     "output_type": "execute_result"
    }
   ],
   "source": [
    "kernel.import_skill(sk.core_skills.MathSkill(), \"MathSkill\")\n",
    "kernel.import_skill(sk.core_skills.TimeSkill(), \"TimeSkill\")\n",
    "kernel.import_skill(sk.core_skills.HttpSkill(), \"HttpSkill\")"
   ]
  },
  {
   "cell_type": "code",
   "execution_count": 4,
   "id": "02cd4956",
   "metadata": {
    "tags": []
   },
   "outputs": [],
   "source": [
    "from semantic_kernel.planning.basic_planner import BasicPlanner\n",
    "planner = BasicPlanner()"
   ]
  },
  {
   "cell_type": "code",
   "execution_count": 5,
   "id": "44601fe4-5f24-4ff2-a5df-a7e194a5b4f8",
   "metadata": {},
   "outputs": [],
   "source": [
    "ask = \"What is the sum of 2319 and 86988?\""
   ]
  },
  {
   "cell_type": "code",
   "execution_count": 6,
   "id": "e45c1c9e",
   "metadata": {},
   "outputs": [
    {
     "name": "stderr",
     "output_type": "stream",
     "text": [
      "INFO:openai:message='OpenAI API response' path=https://api.openai.com/v1/chat/completions processing_ms=2500 request_id=42c3c770e1c81a20dfc866d2109ed455 response_code=200\n"
     ]
    }
   ],
   "source": [
    "original_plan = await planner.create_plan_async(ask, kernel)"
   ]
  },
  {
   "cell_type": "code",
   "execution_count": 7,
   "id": "0c4cd19e",
   "metadata": {},
   "outputs": [
    {
     "name": "stdout",
     "output_type": "stream",
     "text": [
      "{\n",
      "    \"input\": \"2319 and 86988\",\n",
      "    \"subtasks\": [\n",
      "        {\"function\": \"MathSkill.Add\", \"args\": {\"input\": 2319, \"Amount\": 86988}}\n",
      "    ]\n",
      "}\n"
     ]
    }
   ],
   "source": [
    "print(original_plan.generated_plan)"
   ]
  },
  {
   "cell_type": "code",
   "execution_count": 8,
   "id": "45a460db",
   "metadata": {},
   "outputs": [
    {
     "name": "stdout",
     "output_type": "stream",
     "text": [
      "89307\n"
     ]
    }
   ],
   "source": [
    "results = await planner.execute_plan_async(original_plan, kernel)\n",
    "print(results)"
   ]
  },
  {
   "cell_type": "code",
   "execution_count": 9,
   "id": "9e1796db",
   "metadata": {},
   "outputs": [
    {
     "name": "stderr",
     "output_type": "stream",
     "text": [
      "INFO:openai:message='OpenAI API response' path=https://api.openai.com/v1/chat/completions processing_ms=1537 request_id=bb13a18a75fa6ad181a072d5f6b69064 response_code=200\n"
     ]
    },
    {
     "name": "stdout",
     "output_type": "stream",
     "text": [
      "{\n",
      "    \"input\": \"whats the date today?\",\n",
      "    \"subtasks\": [\n",
      "        {\"function\": \"TimeSkill.today\"}\n",
      "    ]\n",
      "}\n",
      "Monday, 19 June, 2023\n"
     ]
    }
   ],
   "source": [
    "ask=\"whats the date today?\"\n",
    "plan2 = await planner.create_plan_async(ask, kernel)\n",
    "print(plan2.generated_plan)\n",
    "result2= await planner.execute_plan_async(plan2, kernel)\n",
    "print(result2)"
   ]
  },
  {
   "cell_type": "code",
   "execution_count": 10,
   "id": "441df699-0a52-4812-a0a7-4605204f0aa8",
   "metadata": {},
   "outputs": [
    {
     "name": "stderr",
     "output_type": "stream",
     "text": [
      "INFO:openai:message='OpenAI API response' path=https://api.openai.com/v1/chat/completions processing_ms=5324 request_id=56b02f87dda447808e6119192b92412d response_code=200\n"
     ]
    },
    {
     "name": "stdout",
     "output_type": "stream",
     "text": [
      "{\n",
      "    \"input\": \"Tom M. Mitchell and his book\",\n",
      "    \"subtasks\": [\n",
      "        {\"function\": \"HttpSkill.getAsync\", \"args\": {\"input\": \"https://en.wikipedia.org/api/rest_v1/page/html/Tom_M._Mitchell\"}},\n",
      "        {\"function\": \"WriterSkill.Rewrite\", \"args\": {\"style\": \"compact\", \"input\": \"The book Tom M. Mitchell wrote\"}},\n",
      "        {\"function\": \"WriterSkill.EmailTo\", \"args\": {\"to\": \"recipient\", \"input\": \"The book Tom M. Mitchell wrote\", \"sender\": \"sender\"}}\n",
      "    ]\n",
      "}\n"
     ]
    }
   ],
   "source": [
    "# Plans generated are not always accurate. Here is an example\n",
    "ask = \"What book did Tom M. Mitchell is an American computer scientist \\\n",
    "and the Founders University Professor at Carnegie Mellon University (CMU) write?\"\n",
    "\n",
    "# IMPORTANT: Copy the skills/WriterSkill directory from https://github.com/microsoft/semantic-kerne into current directory\n",
    "skills_directory = \"skills\"\n",
    "writer_skill = kernel.import_semantic_skill_from_directory(skills_directory, \"WriterSkill\")\n",
    "\n",
    "plan3 = await planner.create_plan_async(ask, kernel)\n",
    "print(plan3.generated_plan)\n",
    " "
   ]
  },
  {
   "cell_type": "code",
   "execution_count": 11,
   "id": "f1ca59e3",
   "metadata": {},
   "outputs": [
    {
     "name": "stderr",
     "output_type": "stream",
     "text": [
      "INFO:openai:message='OpenAI API response' path=https://api.openai.com/v1/chat/completions processing_ms=438 request_id=405e12ba8c9bee3e6ed621ea6b6aaff7 response_code=200\n",
      "INFO:openai:message='OpenAI API response' path=https://api.openai.com/v1/chat/completions processing_ms=1805 request_id=0c17ddb5f71e3261e8a44c19a6062392 response_code=200\n"
     ]
    },
    {
     "name": "stdout",
     "output_type": "stream",
     "text": [
      "Dear Recipient,\n",
      "\n",
      "I wanted to bring to your attention a book written by Tom M. Mitchell. It's a great read and I highly recommend it.\n",
      "\n",
      "Thank you,\n",
      "Sender\n"
     ]
    }
   ],
   "source": [
    "result3= await planner.execute_plan_async(plan3, kernel)\n",
    "print(result3)"
   ]
  },
  {
   "cell_type": "markdown",
   "id": "2d2a4685",
   "metadata": {},
   "source": [
    "## Define your own tool"
   ]
  },
  {
   "cell_type": "code",
   "execution_count": null,
   "id": "ac295066",
   "metadata": {},
   "outputs": [],
   "source": [
    "# TODO"
   ]
  }
 ],
 "metadata": {
  "kernelspec": {
   "display_name": "Python 3 (ipykernel)",
   "language": "python",
   "name": "python3"
  },
  "language_info": {
   "codemirror_mode": {
    "name": "ipython",
    "version": 3
   },
   "file_extension": ".py",
   "mimetype": "text/x-python",
   "name": "python",
   "nbconvert_exporter": "python",
   "pygments_lexer": "ipython3",
   "version": "3.9.16"
  }
 },
 "nbformat": 4,
 "nbformat_minor": 5
}
