{
 "cells": [
  {
   "cell_type": "markdown",
   "id": "52824b89-532a-4e54-87e9-1410813cd39e",
   "metadata": {},
   "source": [
    "# SK: Agents using Planner\n",
    "\n",
    "## Outline:\n",
    "\n",
    "* Using built in SK Skills: HttpSkill, TimeSkill and MathSkill\n",
    "* Use other skills examples in SK (WriterSkill) from a directory. This is how you can write your own skill and make it available to the agent"
   ]
  },
  {
   "cell_type": "code",
   "execution_count": 1,
   "id": "b7ed03ed-1322-49e3-b2a2-33e94fb592ef",
   "metadata": {
    "tags": []
   },
   "outputs": [],
   "source": [
    "import os\n",
    "\n",
    "from dotenv import load_dotenv, find_dotenv\n",
    "_ = load_dotenv(find_dotenv()) # read local .env file\n",
    "\n",
    "import warnings\n",
    "warnings.filterwarnings(\"ignore\")"
   ]
  },
  {
   "cell_type": "code",
   "execution_count": 26,
   "id": "c74802dd",
   "metadata": {},
   "outputs": [
    {
     "data": {
      "text/plain": [
       "<semantic_kernel.kernel.Kernel at 0x7f1b69df5b20>"
      ]
     },
     "execution_count": 26,
     "metadata": {},
     "output_type": "execute_result"
    }
   ],
   "source": [
    "# Standard Semantic Kernel initialization\n",
    "import semantic_kernel as sk\n",
    "import os\n",
    "import logging\n",
    "from semantic_kernel.connectors.ai.open_ai import OpenAIChatCompletion\n",
    "\n",
    "logging.basicConfig(level=logging.INFO)\n",
    "logger = logging.getLogger('__name__')\n",
    "kernel=sk.Kernel(log=logger)\n",
    "\n",
    "api_key = os.environ['OPENAI_API_KEY']\n",
    "kernel.add_chat_service(\n",
    "        \"chat-gpt\", OpenAIChatCompletion(\"gpt-3.5-turbo-0301\", api_key)\n",
    ")"
   ]
  },
  {
   "cell_type": "markdown",
   "id": "0e3b9ad2",
   "metadata": {},
   "source": [
    "## Built-in SK tools"
   ]
  },
  {
   "cell_type": "code",
   "execution_count": 27,
   "id": "394924ac",
   "metadata": {
    "tags": []
   },
   "outputs": [
    {
     "data": {
      "text/plain": [
       "{'deleteAsync': <semantic_kernel.orchestration.sk_function.SKFunction at 0x7f1b69d8ea30>,\n",
       " 'getAsync': <semantic_kernel.orchestration.sk_function.SKFunction at 0x7f1b69d8e760>,\n",
       " 'postAsync': <semantic_kernel.orchestration.sk_function.SKFunction at 0x7f1b69d8ecd0>,\n",
       " 'putAsync': <semantic_kernel.orchestration.sk_function.SKFunction at 0x7f1b69d8ee20>}"
      ]
     },
     "execution_count": 27,
     "metadata": {},
     "output_type": "execute_result"
    }
   ],
   "source": [
    "# SK comes with a few built in skills/plugins. Lets use those and have SK generate a plan for which skills to use for a prompt\n",
    "kernel.import_skill(sk.core_skills.MathSkill(), \"MathSkill\")\n",
    "kernel.import_skill(sk.core_skills.TimeSkill(), \"TimeSkill\")\n",
    "kernel.import_skill(sk.core_skills.HttpSkill(), \"HttpSkill\")"
   ]
  },
  {
   "cell_type": "code",
   "execution_count": 28,
   "id": "02cd4956",
   "metadata": {
    "tags": []
   },
   "outputs": [],
   "source": [
    "from semantic_kernel.planning.basic_planner import BasicPlanner\n",
    "planner = BasicPlanner()"
   ]
  },
  {
   "cell_type": "code",
   "execution_count": 29,
   "id": "44601fe4-5f24-4ff2-a5df-a7e194a5b4f8",
   "metadata": {},
   "outputs": [],
   "source": [
    "ask = \"What is the sum of 2319 and 86988?\""
   ]
  },
  {
   "cell_type": "code",
   "execution_count": 30,
   "id": "e45c1c9e",
   "metadata": {},
   "outputs": [
    {
     "name": "stderr",
     "output_type": "stream",
     "text": [
      "INFO:openai:message='OpenAI API response' path=https://api.openai.com/v1/chat/completions processing_ms=983 request_id=6c52cd873cd3f227451385c085f3359f response_code=200\n"
     ]
    }
   ],
   "source": [
    "# For this above \"ask\" the planner shoudl choose the mathskill\n",
    "original_plan = await planner.create_plan_async(ask, kernel)"
   ]
  },
  {
   "cell_type": "code",
   "execution_count": 31,
   "id": "0c4cd19e",
   "metadata": {},
   "outputs": [
    {
     "name": "stdout",
     "output_type": "stream",
     "text": [
      "{\n",
      "    \"input\": \"2319 and 86988\",\n",
      "    \"subtasks\": [\n",
      "        {\"function\": \"MathSkill.Add\", \"args\": {\"input\": 2319, \"Amount\": 86988}}\n",
      "    ]\n",
      "}\n"
     ]
    }
   ],
   "source": [
    "# Lets see what the plan says\n",
    "print(original_plan.generated_plan)"
   ]
  },
  {
   "cell_type": "code",
   "execution_count": 32,
   "id": "45a460db",
   "metadata": {},
   "outputs": [
    {
     "name": "stdout",
     "output_type": "stream",
     "text": [
      "89307\n"
     ]
    }
   ],
   "source": [
    "# Plan looks good if it returned mathSkill. Now execute it\n",
    "results = await planner.execute_plan_async(original_plan, kernel)\n",
    "print(results)"
   ]
  },
  {
   "cell_type": "code",
   "execution_count": 33,
   "id": "9e1796db",
   "metadata": {},
   "outputs": [
    {
     "name": "stderr",
     "output_type": "stream",
     "text": [
      "INFO:openai:message='OpenAI API response' path=https://api.openai.com/v1/chat/completions processing_ms=662 request_id=58197b79e1e2e311490c249f9616c3cc response_code=200\n"
     ]
    },
    {
     "name": "stdout",
     "output_type": "stream",
     "text": [
      "{\n",
      "    \"input\": \"today's date\",\n",
      "    \"subtasks\": [\n",
      "        {\"function\": \"TimeSkill.now\"}\n",
      "    ]\n",
      "}\n",
      "Thursday, July 06, 2023 04:09 PM\n"
     ]
    }
   ],
   "source": [
    "ask=\"whats the date today?\"\n",
    "plan2 = await planner.create_plan_async(ask, kernel)\n",
    "print(plan2.generated_plan)\n",
    "result2= await planner.execute_plan_async(plan2, kernel)\n",
    "print(result2)"
   ]
  },
  {
   "cell_type": "code",
   "execution_count": 34,
   "id": "441df699-0a52-4812-a0a7-4605204f0aa8",
   "metadata": {},
   "outputs": [
    {
     "name": "stderr",
     "output_type": "stream",
     "text": [
      "INFO:openai:message='OpenAI API response' path=https://api.openai.com/v1/chat/completions processing_ms=1753 request_id=3da7ac2b06a161ba0a2daf066e78de41 response_code=200\n"
     ]
    },
    {
     "name": "stdout",
     "output_type": "stream",
     "text": [
      "{\n",
      "    \"input\": \"Tom M. Mitchell\",\n",
      "    \"subtasks\": [\n",
      "        {\"function\": \"HttpSkill.getAsync\", \"args\": {\"input\": \"https://en.wikipedia.org/w/api.php?action=query&format=json&titles=Tom_M._Mitchell&prop=extracts&exintro&explaintext\"}},\n",
      "        {\"function\": \"WriterSkill.Rewrite\", \"args\": {\"style\": \"compact\"}}\n",
      "    ]\n",
      "}\n"
     ]
    }
   ],
   "source": [
    "# Plans generated may not always be accurate. \n",
    "ask = \"What book did Tom M. Mitchell is an American computer scientist \\\n",
    "and the Founders University Professor at Carnegie Mellon University (CMU) write?\"\n",
    "\n",
    "# IMPORTANT: Copy the skills/WriterSkill directory from https://github.com/microsoft/semantic-kerne into current directory\n",
    "skills_directory = \"skills\"\n",
    "writer_skill = kernel.import_semantic_skill_from_directory(skills_directory, \"WriterSkill\")\n",
    "\n",
    "plan3 = await planner.create_plan_async(ask, kernel)\n",
    "print(plan3.generated_plan)\n",
    " "
   ]
  },
  {
   "cell_type": "code",
   "execution_count": 35,
   "id": "f1ca59e3",
   "metadata": {},
   "outputs": [
    {
     "name": "stderr",
     "output_type": "stream",
     "text": [
      "INFO:openai:message='OpenAI API response' path=https://api.openai.com/v1/chat/completions processing_ms=1765 request_id=228f404ff276dd630ce14530c808cf0b response_code=200\n"
     ]
    },
    {
     "name": "stdout",
     "output_type": "stream",
     "text": [
      "Tom M. Mitchell, an American computer scientist, is the Founders University Professor at Carnegie Mellon University (CMU). He founded and chaired the Machine Learning Department at CMU and is renowned for his contributions to the advancement of machine learning, artificial intelligence, and cognitive neuroscience. Mitchell authored the textbook Machine Learning and has been a member of the United States National Academy of Engineering since 2010. He is also a Fellow of the American Academy of Arts and Sciences, the American Association for the Advancement of Science, and a Fellow and past President of the Association for the Advancement of Artificial Intelligence. In October 2018, Mitchell was appointed as the Interim Dean of the School of Computer Science at Carnegie Mellon.\n"
     ]
    }
   ],
   "source": [
    "result3= await planner.execute_plan_async(plan3, kernel)\n",
    "print(result3)"
   ]
  }
 ],
 "metadata": {
  "kernelspec": {
   "display_name": "Python 3 (ipykernel)",
   "language": "python",
   "name": "python3"
  },
  "language_info": {
   "codemirror_mode": {
    "name": "ipython",
    "version": 3
   },
   "file_extension": ".py",
   "mimetype": "text/x-python",
   "name": "python",
   "nbconvert_exporter": "python",
   "pygments_lexer": "ipython3",
   "version": "3.9.16"
  }
 },
 "nbformat": 4,
 "nbformat_minor": 5
}
